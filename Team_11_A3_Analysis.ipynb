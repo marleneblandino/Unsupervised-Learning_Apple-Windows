{
 "cells": [
  {
   "cell_type": "markdown",
   "metadata": {},
   "source": [
    "***\n",
    "***\n",
    "***\n",
    "<br><font size = 13><center><u>Use of Unsupervised Learning</u></center></font><br>\n",
    "    <font size = 7><center>to build customer personas</center></font> <br>\n",
    "<strong><h2>Team 11 - Castro </h2></strong> <br>\n",
    "Andrea Piatti <br>\n",
    "Jacqueline Wagner <br>\n",
    "Lorenzo Aguilar <br>\n",
    "Marlene Blandino <br>\n",
    "Prajakta Parkar <br>\n",
    "Thiago Marcondes <br>\n",
    "\n",
    "\n",
    "<h3>Machine Learning : Assignment 3 </h3> <br>\n",
    "For Professor Chase Kusterer <br>\n",
    "\n",
    "***"
   ]
  },
  {
   "cell_type": "markdown",
   "metadata": {},
   "source": [
    "***\n",
    "<h2> Introduction </h2><br>\n",
    "<h3> Context </h3><br>\n",
    "<b><i>Apple vs Windows</i></b> is a rivalry as old as time. With each of them having their own share of loyalists and critics, pros and cons, it has always been a pressing dilemma for a consumer to make a decision. This dilemma extends to the manufacturers while understanding what makes a person buy their products, and more so while understanding who exactly buys their products. With segmenting based on demographics being a passé, in the following analysis, we aim to gather a wholesome understanding of the buying behaviour of consumers who prefer one over the other.<br><br>\n",
    "We, Team 11 from Castro, have assumed the role of analysts hired by <i>Microsoft</i>. Based on a survey conducted, at Hult International Business School, of potential consumers, we will be responsible for dissecting the data provided, gathering key takeaways and concluding with an immediate actionable recommendation.\n",
    "\n",
    "***\n",
    "<h3>Understanding buying behaviour </h3>\n",
    "The three broad factors that dictate buying behaviour are personal (demographics), psychological (psychographics or psychometrics, and social (external stimuli)<i>(Source: How to Understand and Influence Consumer Behavior, Brandwatch.com)</i>. This particular study will revolve around more intrinsic factors like demographics and psychographics of a consumer. The data to be analysed is primary data (gathered first-handed) via an online survey. It is to be noted that this is a consumer survey which comes with its own limitations like loss of interest by the end of a long survey, incorrect self-perception and dishonest answers. \n",
    "\n",
    "<h4>Demographics </h4>\n",
    "We will dwell over the demographic data collected while analysing the dataset.\n",
    "\n",
    "<h4>Personality Psychology</h4>\n",
    "Personality Psychology helps understand the motivations, behaviours, emotions and cognition of a person. This is an effective way of understanding the psychographics of consumers. The survey conducted used the <b>Big 5 (OCEAN)</b> and the proprietary, <b>Hult DNA</b> to gauge the behaviour of respondents.<br>\n",
    "\n",
    "<h5>The Big 5 Personality </h5>\n",
    "One of the most popular theories, The Big 5 Personality, often coined as OCEAN, helps understand the extent of the following prevalant in consumers:\n",
    "<ol>\n",
    "    <li>Openness </li>\n",
    "    <li>Conscientousness </li>\n",
    "    <li>Extraversion </li>\n",
    "    <li>Agreeableness </li>\n",
    "    <li>Neuroticism </li>\n",
    "</ol>\n",
    "This will help us understand the behaviour of the consumer.\n",
    "\n",
    "<h5>Hult DNA </h5>\n",
    "Years of research at the Hult Labs has culminated into nine must-have traits for a student to be employable on graduation. Hult regularly imbibes these within its students. Currently, the Hult DNA consists of 3 broad categories and 3 subcategories within each category, namely:\n",
    "<ol>\n",
    "    <li>Thinking </li>\n",
    "        <ul>\n",
    "            <li>Shows self-awareness </li>\n",
    "            <li>Embraces change </li>\n",
    "            <li>Demonstrates dynamic thinking </li>\n",
    "        </ul><br>\n",
    "    <li>Communicating </li>\n",
    "        <ul>\n",
    "            <li>Speaks and listens confidentally </li>\n",
    "            <li>Influences confidentally </li>\n",
    "            <li>Presents ideas effectively </li>\n",
    "        </ul><br>\n",
    "    <li>Team Building </li>\n",
    "        <ul>\n",
    "            <li>Fosters collaborative relationships </li>\n",
    "            <li>Influences productivity </li>\n",
    "            <li>Resolves conflict constructively </li>\n",
    "        </ul><br>\n",
    "</ol>\n",
    "We will be using the 3 broad categories for the remainder of the study.<br>\n",
    "This will help us understand the psychometrics of the consumer.\n",
    "\n",
    "<h5>Caveat for personality types </h5><br>\n",
    "The Big5 is a spectrum ie each of the five parameters a personality is measured on has an opposite end to it. For example someone who is low on Agreeableness is considered to be competitive or someone low on Extraversion is considered to be an introvert <i>(Source: The Big Five Personality Traits, verywellmind.com)</i>. Every person has traces of all the parameters, some paraemeters may be dominant while some dormant. \n",
    "\n",
    "***\n",
    "\n",
    "<h3>Bifurcating the dataset for analysis</h3><br>\n",
    "We will be doing our analysis based on demographics and psychographics of the respondents. Big5 and Hult DNA, both provide psychographic(behavioural and psychometric) insight of the potential consumer, thus they would be analysed together and not separately. Demographics will not be a part of the unsupervised learning model but will be used to derive key observations. "
   ]
  },
  {
   "cell_type": "markdown",
   "metadata": {},
   "source": [
    "<h2> Methodology </h2>\n"
   ]
  },
  {
   "cell_type": "markdown",
   "metadata": {},
   "source": [
    "<h2> Importing the data and understanding it </h2>\n",
    "<h3> Importing the neccesary libraries </h3>\n",
    "The ones listed below are the libraries that we will be utilizing throughout our analysis"
   ]
  },
  {
   "cell_type": "code",
   "execution_count": 5,
   "metadata": {
    "code_folding": [
     0
    ]
   },
   "outputs": [],
   "source": [
    "# Loading packages \n",
    "import pandas                as pd                  \n",
    "import matplotlib.pyplot     as plt\n",
    "import seaborn               as sns\n",
    "import sys\n",
    "from sklearn.decomposition   import PCA\n",
    "from sklearn.manifold        import TSNE\n",
    "from sklearn.preprocessing   import StandardScaler\n",
    "from scipy.cluster.hierarchy import dendrogram, linkage\n",
    "from sklearn.cluster         import KMeans"
   ]
  },
  {
   "cell_type": "markdown",
   "metadata": {},
   "source": [
    "<h3>Importing the dataset</h3>\n",
    "We used the dataset \"Survey_Data_Final_Exam\" at our disposal."
   ]
  },
  {
   "cell_type": "code",
   "execution_count": 6,
   "metadata": {
    "code_folding": [
     0
    ]
   },
   "outputs": [],
   "source": [
    "## Loading dataset \n",
    "survey_df = pd.read_excel('Survey_Data_Final_Exam.xlsx')"
   ]
  },
  {
   "cell_type": "code",
   "execution_count": 7,
   "metadata": {
    "code_folding": [
     0
    ],
    "scrolled": true
   },
   "outputs": [],
   "source": [
    "## Quick overview of the data\n",
    "#survey_df.head() #Checking the datafile\n",
    "#survey_df.info() #Checking if any null values - None exist! Hurray!\n",
    "#survey_df.describe() #Checking the central tendency & dispersion of data\n",
    "#survey_df.columns #Getting column names\n"
   ]
  },
  {
   "cell_type": "markdown",
   "metadata": {},
   "source": [
    "<h3> Understanding the dataset </h3>\n",
    "<h4> Features </h4>\n",
    "There are a total of 78 features or variables present in the dataset\n",
    "\n",
    "<h5> Categorical Features</h5>\n",
    "5 of the features are give information on the demographics of the person like <i>Nationality, Ethnicity, Gender, Hult Program, Age</i> (numerical currently but will be converted into categorical later), and \n",
    "2 of the features are reflective of the laptop preference, existing and in the future, of the respondent\n",
    "\n",
    "<h5> Numerical Features</h5>\n",
    "71 out of the 78 features are a combination of the Big5 personality questions and Hult DNA. These are all numerical since the respondents have to rate on a scale from 1 to 5 with 1 being least likely and 5 most.\n",
    "\n",
    "<h4> Responses </h4>\n",
    "There a total of 392 responses in the dataset\n",
    "\n",
    "<h4> Pattern detection in the features </h4> \n",
    "The variables (not counting survey ID) ie the questions posed to the respondent have a pattern. The variables follow the following pattern: Extraversion, Agreeableness, Conscientousness, Neuroticism, Openness for the first 50 variables. The next 18 questions are on Hult DNA, with every 6 being on Thinking, Communicating and Team Building respectively. There are 3 repeat questions from the Thinking category. This will help us understand the authenticity of the responses.\n",
    "\n",
    "<h4>Null or NAs</h4>\n",
    "There are no null or NAs in the dataset"
   ]
  },
  {
   "cell_type": "markdown",
   "metadata": {},
   "source": [
    "<h2> Cleaning the data </h2><br>\n",
    "Survey data is often full of discrepancies (like variant spellings/terms for the same thing or proxy responses) which aren't ideal for analysis and model building. We aim to clean and manipulate the dataset given to optimality.\n",
    "\n",
    "<h3> Reviewing categorical features and age </h3>"
   ]
  },
  {
   "cell_type": "code",
   "execution_count": 8,
   "metadata": {
    "code_folding": [
     0
    ]
   },
   "outputs": [],
   "source": [
    "# Reviewing categorical columns and age: \n",
    "multipurpose_lst=[]\n",
    "lst_categorical = ['Gender','What is your nationality? ', 'What is your ethnicity?','What laptop do you currently have?',\n",
    "       'What laptop would you buy in next assuming if all laptops cost the same?',\n",
    "       'What program are you in?']\n",
    "\n",
    "for rows in survey_df.iterrows():\n",
    "    for columns in lst_categorical:\n",
    "        columns_values = survey_df[columns].value_counts()\n",
    "        multipurpose_lst.append(columns_values)\n",
    "        \n",
    "multi_df = pd.DataFrame(multipurpose_lst)\n",
    "#multi_df.to_excel('multi_df.xlsx')"
   ]
  },
  {
   "cell_type": "markdown",
   "metadata": {},
   "source": [
    "<h3> Outlier Detection and Removal</h3>\n",
    "<h4> Detecting outliers</h4>"
   ]
  },
  {
   "cell_type": "code",
   "execution_count": 9,
   "metadata": {
    "code_folding": [
     0
    ],
    "scrolled": true
   },
   "outputs": [
    {
     "data": {
      "image/png": "[encoded data removed]",
      "text/plain": [
       "<Figure size 432x288 with 1 Axes>"
      ]
     },
     "metadata": {
      "needs_background": "light"
     },
     "output_type": "display_data"
    }
   ],
   "source": [
    "# Reviewing personality respond questions: \n",
    "survey_df_noage = survey_df.drop(columns=['What is your age?'], axis = 1) #removing the age so it wont be added to the total column \n",
    "survey_df.loc[:,'Total'] = survey_df_noage.sum(numeric_only=True, axis=1)\n",
    "plt.hist(survey_df['Total'])\n",
    "plt.show()"
   ]
  },
  {
   "cell_type": "markdown",
   "metadata": {},
   "source": [
    "<h4> Removing outliers</h4>"
   ]
  },
  {
   "cell_type": "code",
   "execution_count": 10,
   "metadata": {
    "code_folding": [
     0
    ]
   },
   "outputs": [
    {
     "data": {
      "text/html": [
       "<div>\n",
       "<style scoped>\n",
       "    .dataframe tbody tr th:only-of-type {\n",
       "        vertical-align: middle;\n",
       "    }\n",
       "\n",
       "    .dataframe tbody tr th {\n",
       "        vertical-align: top;\n",
       "    }\n",
       "\n",
       "    .dataframe thead th {\n",
       "        text-align: right;\n",
       "    }\n",
       "</style>\n",
       "<table border=\"1\" class=\"dataframe\">\n",
       "  <thead>\n",
       "    <tr style=\"text-align: right;\">\n",
       "      <th></th>\n",
       "      <th>surveyID</th>\n",
       "      <th>Am the life of the party</th>\n",
       "      <th>Feel little concern for others</th>\n",
       "      <th>Am always prepared</th>\n",
       "      <th>Get stressed out easily</th>\n",
       "      <th>Have a rich vocabulary</th>\n",
       "      <th>Don't talk a lot</th>\n",
       "      <th>Am interested in people</th>\n",
       "      <th>Leave my belongings around</th>\n",
       "      <th>Am relaxed most of the time</th>\n",
       "      <th>...</th>\n",
       "      <th>Drive for results</th>\n",
       "      <th>What laptop do you currently have?</th>\n",
       "      <th>What laptop would you buy in next assuming if all laptops cost the same?</th>\n",
       "      <th>What program are you in?</th>\n",
       "      <th>What is your age?</th>\n",
       "      <th>Gender</th>\n",
       "      <th>What is your nationality?</th>\n",
       "      <th>What is your ethnicity?</th>\n",
       "      <th>Total</th>\n",
       "      <th>outliers_responses</th>\n",
       "    </tr>\n",
       "  </thead>\n",
       "  <tbody>\n",
       "    <tr>\n",
       "      <th>21</th>\n",
       "      <td>a1021</td>\n",
       "      <td>3</td>\n",
       "      <td>3</td>\n",
       "      <td>3</td>\n",
       "      <td>4</td>\n",
       "      <td>3</td>\n",
       "      <td>4</td>\n",
       "      <td>3</td>\n",
       "      <td>3</td>\n",
       "      <td>4</td>\n",
       "      <td>...</td>\n",
       "      <td>3</td>\n",
       "      <td>Macbook</td>\n",
       "      <td>Macbook</td>\n",
       "      <td>One year Business Analytics</td>\n",
       "      <td>24</td>\n",
       "      <td>Female</td>\n",
       "      <td>chinese</td>\n",
       "      <td>Far east Asian</td>\n",
       "      <td>197</td>\n",
       "      <td>1</td>\n",
       "    </tr>\n",
       "    <tr>\n",
       "      <th>97</th>\n",
       "      <td>a1097</td>\n",
       "      <td>5</td>\n",
       "      <td>5</td>\n",
       "      <td>2</td>\n",
       "      <td>5</td>\n",
       "      <td>2</td>\n",
       "      <td>5</td>\n",
       "      <td>5</td>\n",
       "      <td>5</td>\n",
       "      <td>5</td>\n",
       "      <td>...</td>\n",
       "      <td>4</td>\n",
       "      <td>Macbook</td>\n",
       "      <td>Windows laptop</td>\n",
       "      <td>One year Business Analytics</td>\n",
       "      <td>24</td>\n",
       "      <td>Male</td>\n",
       "      <td>China</td>\n",
       "      <td>Far east Asian</td>\n",
       "      <td>299</td>\n",
       "      <td>1</td>\n",
       "    </tr>\n",
       "    <tr>\n",
       "      <th>110</th>\n",
       "      <td>a1110</td>\n",
       "      <td>4</td>\n",
       "      <td>4</td>\n",
       "      <td>3</td>\n",
       "      <td>3</td>\n",
       "      <td>4</td>\n",
       "      <td>3</td>\n",
       "      <td>4</td>\n",
       "      <td>3</td>\n",
       "      <td>4</td>\n",
       "      <td>...</td>\n",
       "      <td>3</td>\n",
       "      <td>Macbook</td>\n",
       "      <td>Macbook</td>\n",
       "      <td>DD (MIB &amp; Business Analytics)</td>\n",
       "      <td>26</td>\n",
       "      <td>Male</td>\n",
       "      <td>Spain</td>\n",
       "      <td>Prefer not to answer</td>\n",
       "      <td>189</td>\n",
       "      <td>1</td>\n",
       "    </tr>\n",
       "    <tr>\n",
       "      <th>169</th>\n",
       "      <td>a1169</td>\n",
       "      <td>3</td>\n",
       "      <td>3</td>\n",
       "      <td>3</td>\n",
       "      <td>4</td>\n",
       "      <td>3</td>\n",
       "      <td>4</td>\n",
       "      <td>3</td>\n",
       "      <td>3</td>\n",
       "      <td>4</td>\n",
       "      <td>...</td>\n",
       "      <td>3</td>\n",
       "      <td>Macbook</td>\n",
       "      <td>Macbook</td>\n",
       "      <td>One year Business Analytics</td>\n",
       "      <td>24</td>\n",
       "      <td>Female</td>\n",
       "      <td>chinese</td>\n",
       "      <td>Far east Asian</td>\n",
       "      <td>197</td>\n",
       "      <td>1</td>\n",
       "    </tr>\n",
       "    <tr>\n",
       "      <th>245</th>\n",
       "      <td>a1245</td>\n",
       "      <td>5</td>\n",
       "      <td>5</td>\n",
       "      <td>2</td>\n",
       "      <td>5</td>\n",
       "      <td>2</td>\n",
       "      <td>5</td>\n",
       "      <td>5</td>\n",
       "      <td>5</td>\n",
       "      <td>5</td>\n",
       "      <td>...</td>\n",
       "      <td>4</td>\n",
       "      <td>Macbook</td>\n",
       "      <td>Windows laptop</td>\n",
       "      <td>One year Business Analytics</td>\n",
       "      <td>24</td>\n",
       "      <td>Male</td>\n",
       "      <td>China</td>\n",
       "      <td>Far east Asian</td>\n",
       "      <td>299</td>\n",
       "      <td>1</td>\n",
       "    </tr>\n",
       "    <tr>\n",
       "      <th>258</th>\n",
       "      <td>a1258</td>\n",
       "      <td>4</td>\n",
       "      <td>4</td>\n",
       "      <td>3</td>\n",
       "      <td>3</td>\n",
       "      <td>4</td>\n",
       "      <td>3</td>\n",
       "      <td>4</td>\n",
       "      <td>3</td>\n",
       "      <td>4</td>\n",
       "      <td>...</td>\n",
       "      <td>3</td>\n",
       "      <td>Macbook</td>\n",
       "      <td>Macbook</td>\n",
       "      <td>DD (MIB &amp; Business Analytics)</td>\n",
       "      <td>26</td>\n",
       "      <td>Male</td>\n",
       "      <td>Spain</td>\n",
       "      <td>Prefer not to answer</td>\n",
       "      <td>189</td>\n",
       "      <td>1</td>\n",
       "    </tr>\n",
       "    <tr>\n",
       "      <th>356</th>\n",
       "      <td>a1356</td>\n",
       "      <td>3</td>\n",
       "      <td>2</td>\n",
       "      <td>3</td>\n",
       "      <td>3</td>\n",
       "      <td>2</td>\n",
       "      <td>4</td>\n",
       "      <td>3</td>\n",
       "      <td>1</td>\n",
       "      <td>3</td>\n",
       "      <td>...</td>\n",
       "      <td>5</td>\n",
       "      <td>Windows laptop</td>\n",
       "      <td>Macbook</td>\n",
       "      <td>One year Business Analytics</td>\n",
       "      <td>29</td>\n",
       "      <td>Female</td>\n",
       "      <td>China</td>\n",
       "      <td>West Asian / Indian</td>\n",
       "      <td>180</td>\n",
       "      <td>1</td>\n",
       "    </tr>\n",
       "    <tr>\n",
       "      <th>374</th>\n",
       "      <td>a1374</td>\n",
       "      <td>3</td>\n",
       "      <td>5</td>\n",
       "      <td>4</td>\n",
       "      <td>4</td>\n",
       "      <td>2</td>\n",
       "      <td>3</td>\n",
       "      <td>5</td>\n",
       "      <td>1</td>\n",
       "      <td>5</td>\n",
       "      <td>...</td>\n",
       "      <td>5</td>\n",
       "      <td>Macbook</td>\n",
       "      <td>Macbook</td>\n",
       "      <td>DD (MIB &amp; Business Analytics)</td>\n",
       "      <td>26</td>\n",
       "      <td>Female</td>\n",
       "      <td>Filipino</td>\n",
       "      <td>Prefer not to answer</td>\n",
       "      <td>285</td>\n",
       "      <td>1</td>\n",
       "    </tr>\n",
       "  </tbody>\n",
       "</table>\n",
       "<p>8 rows × 81 columns</p>\n",
       "</div>"
      ],
      "text/plain": [
       "    surveyID  Am the life of the party  Feel little concern for others  \\\n",
       "21     a1021                         3                               3   \n",
       "97     a1097                         5                               5   \n",
       "110    a1110                         4                               4   \n",
       "169    a1169                         3                               3   \n",
       "245    a1245                         5                               5   \n",
       "258    a1258                         4                               4   \n",
       "356    a1356                         3                               2   \n",
       "374    a1374                         3                               5   \n",
       "\n",
       "     Am always prepared  Get stressed out easily  Have a rich vocabulary  \\\n",
       "21                    3                        4                       3   \n",
       "97                    2                        5                       2   \n",
       "110                   3                        3                       4   \n",
       "169                   3                        4                       3   \n",
       "245                   2                        5                       2   \n",
       "258                   3                        3                       4   \n",
       "356                   3                        3                       2   \n",
       "374                   4                        4                       2   \n",
       "\n",
       "     Don't talk a lot  Am interested in people  Leave my belongings around  \\\n",
       "21                  4                        3                           3   \n",
       "97                  5                        5                           5   \n",
       "110                 3                        4                           3   \n",
       "169                 4                        3                           3   \n",
       "245                 5                        5                           5   \n",
       "258                 3                        4                           3   \n",
       "356                 4                        3                           1   \n",
       "374                 3                        5                           1   \n",
       "\n",
       "     Am relaxed most of the time  ...  Drive for results  \\\n",
       "21                             4  ...                  3   \n",
       "97                             5  ...                  4   \n",
       "110                            4  ...                  3   \n",
       "169                            4  ...                  3   \n",
       "245                            5  ...                  4   \n",
       "258                            4  ...                  3   \n",
       "356                            3  ...                  5   \n",
       "374                            5  ...                  5   \n",
       "\n",
       "     What laptop do you currently have?  \\\n",
       "21                              Macbook   \n",
       "97                              Macbook   \n",
       "110                             Macbook   \n",
       "169                             Macbook   \n",
       "245                             Macbook   \n",
       "258                             Macbook   \n",
       "356                      Windows laptop   \n",
       "374                             Macbook   \n",
       "\n",
       "     What laptop would you buy in next assuming if all laptops cost the same?  \\\n",
       "21                                             Macbook                          \n",
       "97                                      Windows laptop                          \n",
       "110                                            Macbook                          \n",
       "169                                            Macbook                          \n",
       "245                                     Windows laptop                          \n",
       "258                                            Macbook                          \n",
       "356                                            Macbook                          \n",
       "374                                            Macbook                          \n",
       "\n",
       "          What program are you in?  What is your age?  Gender  \\\n",
       "21     One year Business Analytics                 24  Female   \n",
       "97     One year Business Analytics                 24    Male   \n",
       "110  DD (MIB & Business Analytics)                 26    Male   \n",
       "169    One year Business Analytics                 24  Female   \n",
       "245    One year Business Analytics                 24    Male   \n",
       "258  DD (MIB & Business Analytics)                 26    Male   \n",
       "356    One year Business Analytics                 29  Female   \n",
       "374  DD (MIB & Business Analytics)                 26  Female   \n",
       "\n",
       "     What is your nationality?   What is your ethnicity?  Total  \\\n",
       "21                      chinese           Far east Asian    197   \n",
       "97                        China           Far east Asian    299   \n",
       "110                       Spain     Prefer not to answer    189   \n",
       "169                     chinese           Far east Asian    197   \n",
       "245                       China           Far east Asian    299   \n",
       "258                       Spain     Prefer not to answer    189   \n",
       "356                       China      West Asian / Indian    180   \n",
       "374                    Filipino     Prefer not to answer    285   \n",
       "\n",
       "     outliers_responses  \n",
       "21                    1  \n",
       "97                    1  \n",
       "110                   1  \n",
       "169                   1  \n",
       "245                   1  \n",
       "258                   1  \n",
       "356                   1  \n",
       "374                   1  \n",
       "\n",
       "[8 rows x 81 columns]"
      ]
     },
     "execution_count": 10,
     "metadata": {},
     "output_type": "execute_result"
    }
   ],
   "source": [
    "## Outliers: \n",
    "responses_lo = 200\n",
    "responses_hi = 280\n",
    "survey_df['outliers_responses'] = 0\n",
    "\n",
    "condition_lo = survey_df.loc[0:,'outliers_responses'][survey_df['Total'] < responses_lo]\n",
    "survey_df['outliers_responses'].replace(to_replace = condition_lo,\n",
    "                                    value      = 1,\n",
    "                                    inplace    = True)\n",
    "condition_hi = survey_df.loc[0:,'outliers_responses'][survey_df['Total'] > responses_hi]\n",
    "survey_df['outliers_responses'].replace(to_replace = condition_hi,\n",
    "                                    value      = 1,\n",
    "                                    inplace    = True)\n",
    "\n",
    "survey_outliers = survey_df[survey_df['outliers_responses']==1]\n",
    "#survey_outliers.to_excel('survey_outliers.xlsx') #output the excel to look at outliers questions\n",
    "survey_outliers"
   ]
  },
  {
   "cell_type": "markdown",
   "metadata": {},
   "source": [
    "To weed out proxy respondents ie people who have unusual consistency in their answer need to be removed. We have assumed them to be reluctant respondents who choose just one option for all answers, e.g., two of the observations (survey ID a1097 and a1245) had 92% of the answers in 4 and 5."
   ]
  },
  {
   "cell_type": "code",
   "execution_count": 11,
   "metadata": {
    "code_folding": [
     0
    ]
   },
   "outputs": [],
   "source": [
    "# Dropping outliers:\n",
    "survey_df= survey_df.drop(index=[21,97,110,169,245,258,356,374]) "
   ]
  },
  {
   "cell_type": "markdown",
   "metadata": {},
   "source": [
    "<h3> Cleaning <i>Nationality</i></h3><br>\n",
    "We adjusted the answers for the question <i><b>Nationality</b></i> because there was a variety of similar answers typed in different ways, e.g. 'Ecuador' and 'ecuador', 'Brazil' and 'brazilian'.\n",
    "Hult being a melting pot of culture with students from almost every nationality, we decided to group them based on continents and/or regions. A good way to control this would be to have drop down menu to eliminate this variation."
   ]
  },
  {
   "cell_type": "code",
   "execution_count": 12,
   "metadata": {
    "code_folding": [
     0
    ]
   },
   "outputs": [],
   "source": [
    "# Adjusting variable 'nationality': \n",
    "def change_nationality (column):\n",
    "    survey_df[column]=survey_df[column].replace(to_replace=\".\",value=\"Other\")\n",
    "    survey_df[column]=survey_df[column].replace(to_replace=\"American\",value=\"North American\")\n",
    "    survey_df[column]=survey_df[column].replace(to_replace=\"Armenia\",value=\"European\")\n",
    "    survey_df[column]=survey_df[column].replace(to_replace=\"Bangladeshi\",value=\"Indian\")\n",
    "    survey_df[column]=survey_df[column].replace(to_replace=\"Belarus\",value=\"European\")\n",
    "    survey_df[column]=survey_df[column].replace(to_replace=\"Belgian\",value=\"European\")\n",
    "    survey_df[column]=survey_df[column].replace(to_replace=\"Belgian \",value=\"European\")\n",
    "    survey_df[column]=survey_df[column].replace(to_replace=\"Belgium\",value=\"European\")\n",
    "    survey_df[column]=survey_df[column].replace(to_replace=\"Brazil\",value=\"South American\")\n",
    "    survey_df[column]=survey_df[column].replace(to_replace=\"Brazilian\",value=\"South American\")\n",
    "    survey_df[column]=survey_df[column].replace(to_replace=\"British\",value=\"European\")\n",
    "    survey_df[column]=survey_df[column].replace(to_replace=\"British Indian\",value=\"Other\")\n",
    "    survey_df[column]=survey_df[column].replace(to_replace=\"calm\",value=\"Other\")\n",
    "    survey_df[column]=survey_df[column].replace(to_replace=\"Cameroon\",value=\"African\")\n",
    "    survey_df[column]=survey_df[column].replace(to_replace=\"Canada\",value=\"North American\")\n",
    "    survey_df[column]=survey_df[column].replace(to_replace=\"Canadian\",value=\"North American\")\n",
    "    survey_df[column]=survey_df[column].replace(to_replace=\"canadian\",value=\"North American\")\n",
    "    survey_df[column]=survey_df[column].replace(to_replace=\"Caribbean-American\",value=\"Other\")\n",
    "    survey_df[column]=survey_df[column].replace(to_replace=\"China\",value=\"Asian\")\n",
    "    survey_df[column]=survey_df[column].replace(to_replace=\"china\",value=\"Asian\")\n",
    "    survey_df[column]=survey_df[column].replace(to_replace=\"CHINA\",value=\"Asian\")\n",
    "    survey_df[column]=survey_df[column].replace(to_replace=\"Chinese\",value=\"Asian\")\n",
    "    survey_df[column]=survey_df[column].replace(to_replace=\"Colombia\",value=\"South American\")\n",
    "    survey_df[column]=survey_df[column].replace(to_replace=\"colombian\",value=\"South American\")\n",
    "    survey_df[column]=survey_df[column].replace(to_replace=\"Colombian\",value=\"South American\")\n",
    "    survey_df[column]=survey_df[column].replace(to_replace=\"Congolese\",value=\"African\")\n",
    "    survey_df[column]=survey_df[column].replace(to_replace=\"Congolese DR CONGO\",value=\"African\")\n",
    "    survey_df[column]=survey_df[column].replace(to_replace=\"Congolese (DR CONGO)\",value=\"African\")\n",
    "    survey_df[column]=survey_df[column].replace(to_replace=\"Costa Rica\",value=\"Central American\")\n",
    "    survey_df[column]=survey_df[column].replace(to_replace=\"Costarrican\",value=\"Central American\")\n",
    "    survey_df[column]=survey_df[column].replace(to_replace=\"Czech\",value=\"European\")\n",
    "    survey_df[column]=survey_df[column].replace(to_replace=\"Czech Republic\",value=\"European\")\n",
    "    survey_df[column]=survey_df[column].replace(to_replace=\"Dominican\",value=\"Caribbean\")\n",
    "    survey_df[column]=survey_df[column].replace(to_replace=\"Dominican \",value=\"Caribbean\")\n",
    "    survey_df[column]=survey_df[column].replace(to_replace=\"Dominican Republic\",value=\"Caribbean\")\n",
    "    survey_df[column]=survey_df[column].replace(to_replace=\"Dutch\",value=\"European\")\n",
    "    survey_df[column]=survey_df[column].replace(to_replace=\"ecuador\",value=\"South American\")\n",
    "    survey_df[column]=survey_df[column].replace(to_replace=\"Ecuador\",value=\"South American\")\n",
    "    survey_df[column]=survey_df[column].replace(to_replace=\"Ecuadorian\",value=\"South American\")\n",
    "    survey_df[column]=survey_df[column].replace(to_replace=\"El Salvador\",value=\"Central American\")\n",
    "    survey_df[column]=survey_df[column].replace(to_replace=\"English\",value=\"European\")\n",
    "    survey_df[column]=survey_df[column].replace(to_replace=\"Filipino\",value=\"Asian\")\n",
    "    survey_df[column]=survey_df[column].replace(to_replace=\"Filipino \",value=\"Asian\")\n",
    "    survey_df[column]=survey_df[column].replace(to_replace=\"French/ Brazilian\",value=\"Other\")\n",
    "    survey_df[column]=survey_df[column].replace(to_replace=\"British, Indian\",value=\"Other\")\n",
    "    survey_df[column]=survey_df[column].replace(to_replace=\"German\",value=\"European\")\n",
    "    survey_df[column]=survey_df[column].replace(to_replace=\"German/American\",value=\"Other\")\n",
    "    survey_df[column]=survey_df[column].replace(to_replace=\"Germany\",value=\"European\")\n",
    "    survey_df[column]=survey_df[column].replace(to_replace=\"Ghanaian\",value=\"African\")\n",
    "    survey_df[column]=survey_df[column].replace(to_replace=\"Guatemalan\",value=\"Central American\")\n",
    "    survey_df[column]=survey_df[column].replace(to_replace=\"Hispanic \",value=\"Other\")\n",
    "    survey_df[column]=survey_df[column].replace(to_replace=\"Honduran\",value=\"Central American\")\n",
    "    survey_df[column]=survey_df[column].replace(to_replace=\"India\",value=\"Indian\")\n",
    "    survey_df[column]=survey_df[column].replace(to_replace=\"india\",value=\"Indian\")\n",
    "    survey_df[column]=survey_df[column].replace(to_replace=\"Indian\",value=\"Indian\")\n",
    "    survey_df[column]=survey_df[column].replace(to_replace=\"indian.\",value=\"Indian\")\n",
    "    survey_df[column]=survey_df[column].replace(to_replace=\"indian\",value=\"Indian\")\n",
    "    survey_df[column]=survey_df[column].replace(to_replace=\"INDIAN\",value=\"Indian\")\n",
    "    survey_df[column]=survey_df[column].replace(to_replace=\"Indonesia\",value=\"Asian\")\n",
    "    survey_df[column]=survey_df[column].replace(to_replace=\"Indonesian\",value=\"Asian\")\n",
    "    survey_df[column]=survey_df[column].replace(to_replace=\"Iran\",value=\"European\")\n",
    "    survey_df[column]=survey_df[column].replace(to_replace=\"Italian\",value=\"European\")\n",
    "    survey_df[column]=survey_df[column].replace(to_replace=\"italian\",value=\"European\")\n",
    "    survey_df[column]=survey_df[column].replace(to_replace=\"Italian and Spanish\",value=\"European\")\n",
    "    survey_df[column]=survey_df[column].replace(to_replace=\"Japan\",value=\"Asian\")\n",
    "    survey_df[column]=survey_df[column].replace(to_replace=\"Kenyan\",value=\"African\")\n",
    "    survey_df[column]=survey_df[column].replace(to_replace=\"Korea\",value=\"Asian\")\n",
    "    survey_df[column]=survey_df[column].replace(to_replace=\"Korean\",value=\"Asian\")\n",
    "    survey_df[column]=survey_df[column].replace(to_replace=\"Kyrgyz\",value=\"Asian\")\n",
    "    survey_df[column]=survey_df[column].replace(to_replace=\"Malaysia\",value=\"Asian\")\n",
    "    survey_df[column]=survey_df[column].replace(to_replace=\"Mauritius\",value=\"African\")\n",
    "    survey_df[column]=survey_df[column].replace(to_replace=\"Mexican\",value=\"Central American\")\n",
    "    survey_df[column]=survey_df[column].replace(to_replace=\"mexican\",value=\"Central American\")\n",
    "    survey_df[column]=survey_df[column].replace(to_replace=\"Mexico\",value=\"Central American\")\n",
    "    survey_df[column]=survey_df[column].replace(to_replace=\"multi-ethnic\",value=\"Other\")\n",
    "    survey_df[column]=survey_df[column].replace(to_replace=\"Nigeria\",value=\"African\")\n",
    "    survey_df[column]=survey_df[column].replace(to_replace=\"Nigerian\",value=\"African\")\n",
    "    survey_df[column]=survey_df[column].replace(to_replace=\"nigerian\",value=\"African\")\n",
    "    survey_df[column]=survey_df[column].replace(to_replace=\"NIGERIAN\",value=\"African\")\n",
    "    survey_df[column]=survey_df[column].replace(to_replace=\"Norwegian\",value=\"European\")\n",
    "    survey_df[column]=survey_df[column].replace(to_replace=\"Pakistani\",value=\"Asian\")\n",
    "    survey_df[column]=survey_df[column].replace(to_replace=\"Palestinian\",value=\"Asian\")\n",
    "    survey_df[column]=survey_df[column].replace(to_replace=\"Panama\",value=\"Central American\")\n",
    "    survey_df[column]=survey_df[column].replace(to_replace=\"Peru\",value=\"South American\")\n",
    "    survey_df[column]=survey_df[column].replace(to_replace=\"Peruvian\",value=\"South American\")\n",
    "    survey_df[column]=survey_df[column].replace(to_replace=\"Philippines\",value=\"Asian\")\n",
    "    survey_df[column]=survey_df[column].replace(to_replace=\"Poland\",value=\"European\")\n",
    "    survey_df[column]=survey_df[column].replace(to_replace=\"Portuguese\",value=\"European\")\n",
    "    survey_df[column]=survey_df[column].replace(to_replace=\"prefer not to answer\",value=\"Other\")\n",
    "    survey_df[column]=survey_df[column].replace(to_replace=\"Republic of Korea\",value=\"Asian\")\n",
    "    survey_df[column]=survey_df[column].replace(to_replace=\"Russia\",value=\"European\")\n",
    "    survey_df[column]=survey_df[column].replace(to_replace=\"Russian\",value=\"European\")\n",
    "    survey_df[column]=survey_df[column].replace(to_replace=\"South African\",value=\"African\")\n",
    "    survey_df[column]=survey_df[column].replace(to_replace=\"South Korea\",value=\"Asian\")\n",
    "    survey_df[column]=survey_df[column].replace(to_replace=\"Spain\",value=\"European\")\n",
    "    survey_df[column]=survey_df[column].replace(to_replace=\"Spanish\",value=\"European\")\n",
    "    survey_df[column]=survey_df[column].replace(to_replace=\"Swiss\",value=\"European\")\n",
    "    survey_df[column]=survey_df[column].replace(to_replace=\"Taiwan\",value=\"Asian\")\n",
    "    survey_df[column]=survey_df[column].replace(to_replace=\"Taiwan R.O.C\",value=\"Asian\")\n",
    "    survey_df[column]=survey_df[column].replace(to_replace=\"Taiwan( R.O.C)\",value=\"Asian\")\n",
    "    survey_df[column]=survey_df[column].replace(to_replace=\"Thai\",value=\"Asian\")\n",
    "    survey_df[column]=survey_df[column].replace(to_replace=\"Thailand\",value=\"Asian\")\n",
    "    survey_df[column]=survey_df[column].replace(to_replace=\"Turkish\",value=\"European\")\n",
    "    survey_df[column]=survey_df[column].replace(to_replace=\"Ugandan\",value=\"African\")\n",
    "    survey_df[column]=survey_df[column].replace(to_replace=\"Ukrainian\",value=\"European\")\n",
    "    survey_df[column]=survey_df[column].replace(to_replace=\"USA\",value=\"North American\")\n",
    "    survey_df[column]=survey_df[column].replace(to_replace=\"Venezuela\",value=\"South American\")\n",
    "    survey_df[column]=survey_df[column].replace(to_replace=\"Venezuelan\",value=\"South American\")\n",
    "    survey_df[column]=survey_df[column].replace(to_replace=\"Vietnamese\",value=\"Asian\")"
   ]
  },
  {
   "cell_type": "code",
   "execution_count": 13,
   "metadata": {
    "code_folding": [
     0
    ]
   },
   "outputs": [],
   "source": [
    "# Applying function to change nationality: \n",
    "change_nationality (\"What is your nationality? \")"
   ]
  },
  {
   "cell_type": "code",
   "execution_count": 14,
   "metadata": {
    "code_folding": [],
    "scrolled": true
   },
   "outputs": [],
   "source": [
    "# survey_df['What is your nationality? '].value_counts()"
   ]
  },
  {
   "cell_type": "markdown",
   "metadata": {},
   "source": [
    "<h3> Cleaning the preferred laptop</h3><br>\n",
    "Since one of the students responded 'Mac' instead of 'Macbook', we corrected to consolidate the answers"
   ]
  },
  {
   "cell_type": "code",
   "execution_count": 15,
   "metadata": {
    "code_folding": [
     0
    ]
   },
   "outputs": [],
   "source": [
    "# Combining 'Mac' and 'Macbook': \n",
    "def change_mac (column):\n",
    "    survey_df[column]=survey_df[column].replace(to_replace=\"MAC\",value=\"Macbook\")\n",
    "\n",
    "change_mac ([\"What laptop do you currently have?\",\n",
    "             \"What laptop would you buy in next assuming if all laptops cost the same?\"])"
   ]
  },
  {
   "cell_type": "markdown",
   "metadata": {},
   "source": [
    "<h3> Analyzing duplicated questions </h3>\n",
    "<h4> Checking authenticity of the responses </h4>\n",
    "Some questions were duplicated, and they ended up being a good way to check if the respondent was paying attention at the survey. We checked if someone answered very differently (difference of more than 2) for the same question and checked if we could rely on their responses or if we should drop these observations."
   ]
  },
  {
   "cell_type": "code",
   "execution_count": 16,
   "metadata": {
    "code_folding": [
     0
    ]
   },
   "outputs": [],
   "source": [
    "# Looping to check if someone had different answers for duplicated question: \n",
    "list_1 = []\n",
    "list_2 = []\n",
    "list_3 = []\n",
    "\n",
    "for index in survey_df.iterrows():\n",
    "    list_1 = abs(survey_df.iloc[:,55] - survey_df.iloc[:,58])\n",
    "    survey_df['list_1'] = list_1\n",
    "    list_2 = abs(survey_df.iloc[:,56] - survey_df.iloc[:,59])\n",
    "    survey_df['list_2'] = list_2\n",
    "    list_3 = abs(survey_df.iloc[:,57] - survey_df.iloc[:,60])\n",
    "    survey_df['list_3'] = list_3\n",
    "\n",
    "survey_test_1 = survey_df[survey_df['list_1']>2]\n",
    "survey_test_2 = survey_df[survey_df['list_2']>2]\n",
    "survey_test_3 = survey_df[survey_df['list_3']>2]"
   ]
  },
  {
   "cell_type": "code",
   "execution_count": 17,
   "metadata": {
    "code_folding": [
     0
    ]
   },
   "outputs": [],
   "source": [
    "# Checking amount of respondents per question: \n",
    "# survey_test_1.head (n=5) \n",
    "# survey_test_2.head (n=5)\n",
    "# survey_test_3.head (n=5)"
   ]
  },
  {
   "cell_type": "code",
   "execution_count": 18,
   "metadata": {
    "code_folding": [
     0
    ]
   },
   "outputs": [],
   "source": [
    "# Dropping observations: \n",
    "survey_df= survey_df.drop(index=[99,247,303,303,371])"
   ]
  },
  {
   "cell_type": "markdown",
   "metadata": {},
   "source": [
    "We decided to remove these 5 observations because it's less than 5% of the total."
   ]
  },
  {
   "cell_type": "markdown",
   "metadata": {},
   "source": [
    "<h3> Similar Questions </h3><br>\n",
    "There are similar questions being posed to the person. This helps with a better understanding of the person. We cannot conclusively infer that a variation in the answers translates to proxy responses. (Source: 2017 Personality 14: Introduction to Traits/Psychometrics/The Big 5, Youtube Channel: Jordan Peterson)"
   ]
  },
  {
   "cell_type": "markdown",
   "metadata": {},
   "source": [
    "<h2> Feature Engineering </h2>"
   ]
  },
  {
   "cell_type": "markdown",
   "metadata": {},
   "source": [
    "<h3> Inversing values for certain variables </h3><br>\n",
    "Calculating what Big5 personality type one is has a mathematical logic. But we will not be spending time on it. For this analysis, we will be aggregating the scores a respondent gets on all questions pertaining to each of the Big5 Personalities. That means, on aggregation, we need to understand how 'Agreeable' a particular person is. \n",
    "For some of the questions, an inverse is true eg. For Agreeableness, a respondent will rate low for the question: Feel little concern for others. In order to have a more realistic final score for the Personality, we will be inversing the score given. \n",
    "1 will be converted to 5, 2 to 4 and so on so forth.\n",
    "\n",
    "Do note, we have mindfully not inversed seemingly negative traits like 'Neuroticism' as we don't believe it to be negative. "
   ]
  },
  {
   "cell_type": "code",
   "execution_count": 19,
   "metadata": {
    "code_folding": [
     0
    ]
   },
   "outputs": [],
   "source": [
    "# Creating function to adjust answer numbers: \n",
    "def change_number (column): \n",
    "    survey_df[column]=survey_df[column].replace(to_replace=1,value=6)\n",
    "    survey_df[column]=survey_df[column].replace(to_replace=5,value=1)\n",
    "    survey_df[column]=survey_df[column].replace(to_replace=6,value=5)\n",
    "    survey_df[column]=survey_df[column].replace(to_replace=2,value=6)\n",
    "    survey_df[column]=survey_df[column].replace(to_replace=4,value=2)\n",
    "    survey_df[column]=survey_df[column].replace(to_replace=6,value=4)"
   ]
  },
  {
   "cell_type": "markdown",
   "metadata": {},
   "source": [
    "We identified 21 such variables which need to be inversed"
   ]
  },
  {
   "cell_type": "code",
   "execution_count": 20,
   "metadata": {
    "code_folding": [
     0
    ]
   },
   "outputs": [],
   "source": [
    "# List of questions to invert the answer: \n",
    "change_number([\"Am not interested in other people's problems\",\n",
    "                \"Insult people\",\n",
    "                \"Am not really interested in others\",\n",
    "                \"Feel little concern for others\",\n",
    "                \"Don't persuasively sell a vision or idea\",\n",
    "                \"Leave my belongings around\",\n",
    "                \"Make a mess of things\",\n",
    "                \"Often forget to put things back in their proper place\",\n",
    "                \"Shirk my duties\",\n",
    "                \"Am quiet around strangers\",\n",
    "                \"Don't like to draw attention to myself\",\n",
    "                \"Don't talk a lot\",\n",
    "                \"Have little to say\",\n",
    "                \"Keep in the background\",\n",
    "                \"Am relaxed most of the time\",\n",
    "                \"Seldom feel blue\",\n",
    "                \"Am not interested in abstract ideas\",\n",
    "                \"Have difficulty understanding abstract ideas\",\n",
    "                \"Do not have a good imagination\",\n",
    "                \"Can't rally people on the team around a common goal\",\n",
    "                \"Don't  generate ideas that are new and different\",\n",
    "                ])"
   ]
  },
  {
   "cell_type": "code",
   "execution_count": 21,
   "metadata": {
    "code_folding": [
     0
    ]
   },
   "outputs": [],
   "source": [
    "# Checking one of the questions: \n",
    "# survey_df[\"Don't talk a lot\"].head(n=5)"
   ]
  },
  {
   "cell_type": "markdown",
   "metadata": {},
   "source": [
    "<h3> Creating categorical variable for age </h3><br>\n",
    "We decided to group 'age' into a category. To visualize that, we plotted the histogram based on which we will define threshholds"
   ]
  },
  {
   "cell_type": "code",
   "execution_count": 22,
   "metadata": {
    "code_folding": [
     0
    ],
    "scrolled": true
   },
   "outputs": [
    {
     "data": {
      "image/png": "[encoded data removed]",
      "text/plain": [
       "<Figure size 432x288 with 1 Axes>"
      ]
     },
     "metadata": {
      "needs_background": "light"
     },
     "output_type": "display_data"
    }
   ],
   "source": [
    "# Histogram: \n",
    "sns.distplot(a = survey_df['What is your age?'],\n",
    "                 hist = True,\n",
    "                 kde = True)\n",
    "    \n",
    "plt.tight_layout()\n",
    "plt.show()"
   ]
  },
  {
   "cell_type": "markdown",
   "metadata": {},
   "source": [
    "We see that most of the respondents are concentrated in the age group between 20 to 40. So we define the thresholds as follows:"
   ]
  },
  {
   "cell_type": "code",
   "execution_count": 23,
   "metadata": {
    "code_folding": [
     0
    ]
   },
   "outputs": [],
   "source": [
    "# Dividing age in categories: \n",
    "# Creating loop to define categories according to ratings\n",
    "age_lst = []\n",
    "\n",
    "for row,col in survey_df.iterrows():\n",
    "    if survey_df.loc[row,'What is your age?'] < 25:\n",
    "        age_lst.append('< 25')\n",
    "    elif survey_df.loc[row,'What is your age?'] < 30:\n",
    "        age_lst.append('25-30')\n",
    "    else:\n",
    "        age_lst.append('>=30')\n",
    "\n",
    "# Adding new variable to dataset\n",
    "survey_df['age_category'] = pd.Series(age_lst)"
   ]
  },
  {
   "cell_type": "code",
   "execution_count": 24,
   "metadata": {
    "code_folding": [
     0
    ]
   },
   "outputs": [
    {
     "name": "stdout",
     "output_type": "stream",
     "text": [
      "\n",
      "Age Group\n",
      "------\n",
      "25-30    171\n",
      "< 25     115\n",
      ">=30      82\n",
      "Name: age_category, dtype: int64\n",
      "\n",
      "\n"
     ]
    }
   ],
   "source": [
    "# Checking dataset with new categorical variable: \n",
    "survey_df.head(n=5)\n",
    "\n",
    "print(f\"\"\"\n",
    "Age Group\n",
    "------\n",
    "{survey_df['age_category'].value_counts().sort_index()}\n",
    "\n",
    "\"\"\")"
   ]
  },
  {
   "cell_type": "code",
   "execution_count": 25,
   "metadata": {
    "code_folding": [
     0
    ]
   },
   "outputs": [],
   "source": [
    "# Creating a copy of the original data before merging variables: \n",
    "survey_df_original = survey_df"
   ]
  },
  {
   "cell_type": "markdown",
   "metadata": {},
   "source": [
    "<h3> Creating new variables with Big5 Personalities and Hult DNA </h3><br>\n",
    "Based on the pattern identified, we shall create new columns which aggregate (mean) of each Personality and trait.\n",
    "Finding the mean doesn't skew the weightage of each Big5 Personality (5 questions for each) and Hult DNA traits(6 questions for each). This way, Hult DNA doesn't get more weightage over Big5. Averaging also helps overcome the duplicate variables."
   ]
  },
  {
   "cell_type": "code",
   "execution_count": 26,
   "metadata": {
    "code_folding": [
     0
    ]
   },
   "outputs": [],
   "source": [
    "# Creating new variables: \n",
    "survey_df['Agreeableness'] = survey_df.iloc[:,[2, 7, 12, 17, 22, 27, 32, 37, 42, 47]].mean(axis=1)\n",
    "survey_df['Communicating'] = survey_df.iloc[:,[57, 60, 61, 62, 63, 64, 65]].mean(axis=1)\n",
    "survey_df['Conscientousness'] = survey_df.iloc[:,[3, 8, 13, 18, 23, 28, 33, 38, 43, 48]].mean(axis=1)\n",
    "survey_df['Extraversion'] = survey_df.iloc[:,[1, 6, 11, 16, 21, 26, 31, 36, 41, 46]].mean(axis=1)\n",
    "survey_df['Neuroticism'] = survey_df.iloc[:,[4, 9, 14, 19, 24, 29, 34, 39, 44, 49]].mean(axis=1)\n",
    "survey_df['Openness'] = survey_df.iloc[:,[5, 10, 15, 20, 25, 30, 35, 40, 45, 50]].mean(axis=1)\n",
    "survey_df['Team building'] = survey_df.iloc[:,[66, 67, 68, 69, 70, 71]].mean(axis=1)\n",
    "survey_df['Thinking'] = survey_df.iloc[:,[51, 52, 53, 54, 55, 56, 58, 59]].mean(axis=1)"
   ]
  },
  {
   "cell_type": "code",
   "execution_count": 27,
   "metadata": {
    "code_folding": [
     0
    ]
   },
   "outputs": [],
   "source": [
    "# Dropping original variables: \n",
    "survey_df = survey_df.drop(survey_df.columns[1:72], axis = 1)"
   ]
  },
  {
   "cell_type": "code",
   "execution_count": 28,
   "metadata": {
    "code_folding": []
   },
   "outputs": [],
   "source": [
    "# survey_df.columns"
   ]
  },
  {
   "cell_type": "markdown",
   "metadata": {},
   "source": [
    "We shall check the correlation between the Big5 personalities and the traits to understand if the inverse has been implemented effectively and to see the correlation between our variables."
   ]
  },
  {
   "cell_type": "code",
   "execution_count": 29,
   "metadata": {
    "code_folding": [
     0
    ]
   },
   "outputs": [],
   "source": [
    "# Checking correlation of original question:\n",
    "survey_df_original_corr = survey_df_original.corr().round(2)\n",
    "#survey_df_original_corr.to_excel('survey_df_original_corr.xlsx')"
   ]
  },
  {
   "cell_type": "markdown",
   "metadata": {},
   "source": [
    "***\n",
    "<h2> Scaling the data </h2><br>\n",
    "We need to ensure that we have a variance of 1 and mean of 0 in order to get the best results as classifying algorithms require standardized data."
   ]
  },
  {
   "cell_type": "code",
   "execution_count": 30,
   "metadata": {
    "code_folding": [
     0
    ],
    "scrolled": true
   },
   "outputs": [],
   "source": [
    "# Scaling dataset: \n",
    "\n",
    "# Dropping demographic information:\n",
    "survey_int_df = survey_df.drop(['surveyID',\n",
    "                                'What laptop do you currently have?',\n",
    "                                'What laptop would you buy in next assuming if all laptops cost the same?',\n",
    "                                'What program are you in?',\n",
    "                                'What is your age?',\n",
    "                                'Gender',\n",
    "                                'What is your nationality? ',\n",
    "                                'What is your ethnicity?',\n",
    "                                'age_category',\n",
    "                                'list_1',\n",
    "                                'list_2',\n",
    "                                'list_3',\n",
    "                                'age_category',\n",
    "                                'outliers_responses',\n",
    "                                'Total'],axis = 1)\n",
    "\n",
    "# Instantiating:\n",
    "scaler = StandardScaler()\n",
    "\n",
    "# Fitting:\n",
    "scaler.fit(survey_int_df)\n",
    "\n",
    "# Transforming:\n",
    "X_scaled = scaler.transform(survey_int_df)\n",
    "\n",
    "# Converting into a DataFrame:\n",
    "survey_scaled = pd.DataFrame(X_scaled)\n",
    "\n",
    "# reattaching column names\n",
    "survey_scaled.columns = survey_int_df.columns\n",
    "\n",
    "\n",
    "# checking pre- and post-scaling variance\n",
    "#print(pd.np.var(survey_int_df), '\\n\\n')\n",
    "#print(pd.np.var(survey_scaled))"
   ]
  },
  {
   "cell_type": "markdown",
   "metadata": {},
   "source": [
    "<h2> Category correlations </h2><br>\n",
    "After looking at the results of the Standard Scaler, we ran correlations to see which categories relate to what."
   ]
  },
  {
   "cell_type": "code",
   "execution_count": 31,
   "metadata": {
    "code_folding": [
     0
    ],
    "scrolled": true
   },
   "outputs": [
    {
     "data": {
      "text/html": [
       "<div>\n",
       "<style scoped>\n",
       "    .dataframe tbody tr th:only-of-type {\n",
       "        vertical-align: middle;\n",
       "    }\n",
       "\n",
       "    .dataframe tbody tr th {\n",
       "        vertical-align: top;\n",
       "    }\n",
       "\n",
       "    .dataframe thead th {\n",
       "        text-align: right;\n",
       "    }\n",
       "</style>\n",
       "<table border=\"1\" class=\"dataframe\">\n",
       "  <thead>\n",
       "    <tr style=\"text-align: right;\">\n",
       "      <th></th>\n",
       "      <th>Agreeableness</th>\n",
       "      <th>Communicating</th>\n",
       "      <th>Conscientousness</th>\n",
       "      <th>Extraversion</th>\n",
       "      <th>Neuroticism</th>\n",
       "      <th>Openness</th>\n",
       "      <th>Team building</th>\n",
       "      <th>Thinking</th>\n",
       "    </tr>\n",
       "  </thead>\n",
       "  <tbody>\n",
       "    <tr>\n",
       "      <th>Agreeableness</th>\n",
       "      <td>1.00</td>\n",
       "      <td>0.46</td>\n",
       "      <td>0.28</td>\n",
       "      <td>0.25</td>\n",
       "      <td>-0.10</td>\n",
       "      <td>0.29</td>\n",
       "      <td>0.44</td>\n",
       "      <td>0.35</td>\n",
       "    </tr>\n",
       "    <tr>\n",
       "      <th>Communicating</th>\n",
       "      <td>0.46</td>\n",
       "      <td>1.00</td>\n",
       "      <td>0.36</td>\n",
       "      <td>0.35</td>\n",
       "      <td>-0.22</td>\n",
       "      <td>0.41</td>\n",
       "      <td>0.63</td>\n",
       "      <td>0.63</td>\n",
       "    </tr>\n",
       "    <tr>\n",
       "      <th>Conscientousness</th>\n",
       "      <td>0.28</td>\n",
       "      <td>0.36</td>\n",
       "      <td>1.00</td>\n",
       "      <td>0.06</td>\n",
       "      <td>-0.22</td>\n",
       "      <td>0.28</td>\n",
       "      <td>0.38</td>\n",
       "      <td>0.49</td>\n",
       "    </tr>\n",
       "    <tr>\n",
       "      <th>Extraversion</th>\n",
       "      <td>0.25</td>\n",
       "      <td>0.35</td>\n",
       "      <td>0.06</td>\n",
       "      <td>1.00</td>\n",
       "      <td>-0.14</td>\n",
       "      <td>0.22</td>\n",
       "      <td>0.25</td>\n",
       "      <td>0.34</td>\n",
       "    </tr>\n",
       "    <tr>\n",
       "      <th>Neuroticism</th>\n",
       "      <td>-0.10</td>\n",
       "      <td>-0.22</td>\n",
       "      <td>-0.22</td>\n",
       "      <td>-0.14</td>\n",
       "      <td>1.00</td>\n",
       "      <td>-0.09</td>\n",
       "      <td>-0.11</td>\n",
       "      <td>-0.17</td>\n",
       "    </tr>\n",
       "    <tr>\n",
       "      <th>Openness</th>\n",
       "      <td>0.29</td>\n",
       "      <td>0.41</td>\n",
       "      <td>0.28</td>\n",
       "      <td>0.22</td>\n",
       "      <td>-0.09</td>\n",
       "      <td>1.00</td>\n",
       "      <td>0.38</td>\n",
       "      <td>0.55</td>\n",
       "    </tr>\n",
       "    <tr>\n",
       "      <th>Team building</th>\n",
       "      <td>0.44</td>\n",
       "      <td>0.63</td>\n",
       "      <td>0.38</td>\n",
       "      <td>0.25</td>\n",
       "      <td>-0.11</td>\n",
       "      <td>0.38</td>\n",
       "      <td>1.00</td>\n",
       "      <td>0.60</td>\n",
       "    </tr>\n",
       "    <tr>\n",
       "      <th>Thinking</th>\n",
       "      <td>0.35</td>\n",
       "      <td>0.63</td>\n",
       "      <td>0.49</td>\n",
       "      <td>0.34</td>\n",
       "      <td>-0.17</td>\n",
       "      <td>0.55</td>\n",
       "      <td>0.60</td>\n",
       "      <td>1.00</td>\n",
       "    </tr>\n",
       "  </tbody>\n",
       "</table>\n",
       "</div>"
      ],
      "text/plain": [
       "                  Agreeableness  Communicating  Conscientousness  \\\n",
       "Agreeableness              1.00           0.46              0.28   \n",
       "Communicating              0.46           1.00              0.36   \n",
       "Conscientousness           0.28           0.36              1.00   \n",
       "Extraversion               0.25           0.35              0.06   \n",
       "Neuroticism               -0.10          -0.22             -0.22   \n",
       "Openness                   0.29           0.41              0.28   \n",
       "Team building              0.44           0.63              0.38   \n",
       "Thinking                   0.35           0.63              0.49   \n",
       "\n",
       "                  Extraversion  Neuroticism  Openness  Team building  Thinking  \n",
       "Agreeableness             0.25        -0.10      0.29           0.44      0.35  \n",
       "Communicating             0.35        -0.22      0.41           0.63      0.63  \n",
       "Conscientousness          0.06        -0.22      0.28           0.38      0.49  \n",
       "Extraversion              1.00        -0.14      0.22           0.25      0.34  \n",
       "Neuroticism              -0.14         1.00     -0.09          -0.11     -0.17  \n",
       "Openness                  0.22        -0.09      1.00           0.38      0.55  \n",
       "Team building             0.25        -0.11      0.38           1.00      0.60  \n",
       "Thinking                  0.34        -0.17      0.55           0.60      1.00  "
      ]
     },
     "execution_count": 31,
     "metadata": {},
     "output_type": "execute_result"
    }
   ],
   "source": [
    "# Correlation: \n",
    "survey_df_corr = survey_scaled.corr().round(2)\n",
    "survey_df_corr"
   ]
  },
  {
   "cell_type": "markdown",
   "metadata": {},
   "source": [
    "***\n",
    "<h2>Principal Component Analysis (PCA) </h2>"
   ]
  },
  {
   "cell_type": "markdown",
   "metadata": {},
   "source": [
    "<h3> Building PCA </h3><br>\n",
    "We print the original and PCA shape to check whether or not we are in the right direction"
   ]
  },
  {
   "cell_type": "code",
   "execution_count": 32,
   "metadata": {
    "code_folding": [
     0
    ]
   },
   "outputs": [
    {
     "name": "stdout",
     "output_type": "stream",
     "text": [
      "Original shape: (380, 8)\n",
      "PCA shape     : (380, 8)\n"
     ]
    }
   ],
   "source": [
    "# Building PCA: \n",
    "# Instantiating a PCA object:\n",
    "pca = PCA(n_components = None,\n",
    "                   random_state = 222)\n",
    "\n",
    "# Fitting and transforming:\n",
    "survey_pca = pca.fit_transform(X_scaled)\n",
    "\n",
    "# comparing dimensions of each DataFrame\n",
    "print(\"Original shape:\", X_scaled.shape)\n",
    "print(\"PCA shape     :\",  survey_pca.shape)"
   ]
  },
  {
   "cell_type": "markdown",
   "metadata": {},
   "source": [
    "<h3> Evaluating PCA Algorithms </h3><br>\n",
    "We look at the different PCA variances"
   ]
  },
  {
   "cell_type": "code",
   "execution_count": 33,
   "metadata": {
    "code_folding": [
     0
    ]
   },
   "outputs": [
    {
     "name": "stdout",
     "output_type": "stream",
     "text": [
      "PC 1 : 0.43\n",
      "PC 2 : 0.124\n",
      "PC 3 : 0.119\n",
      "PC 4 : 0.095\n",
      "PC 5 : 0.078\n",
      "PC 6 : 0.073\n",
      "PC 7 : 0.044\n",
      "PC 8 : 0.037\n"
     ]
    }
   ],
   "source": [
    "# Comparing different components: \n",
    "component_number = 0\n",
    "\n",
    "# looping over each principal component\n",
    "for variance in pca.explained_variance_ratio_:\n",
    "    component_number += 1\n",
    "    print(f\"PC {component_number} : {variance.round(3)}\")"
   ]
  },
  {
   "cell_type": "markdown",
   "metadata": {},
   "source": [
    "<h3> Getting a Scree Plot for optimum number of components </h3><br>\n",
    "This will help us understand how can we optimize our number of components. The idea is to keep it tight (as few as possible) but also cover most of the data"
   ]
  },
  {
   "cell_type": "markdown",
   "metadata": {},
   "source": [
    "<h4> Set-up for Scree Plots </h4>"
   ]
  },
  {
   "cell_type": "code",
   "execution_count": 34,
   "metadata": {
    "code_folding": [
     0
    ]
   },
   "outputs": [],
   "source": [
    "# Creating scree_plot function: \n",
    "def scree_plot(pca_object, export = False):\n",
    "\n",
    "    # setting plot size\n",
    "    fig, ax = plt.subplots(figsize=(10, 8))\n",
    "    features = range(pca_object.n_components_)\n",
    "\n",
    "    # developing a scree plot\n",
    "    plt.plot(features,\n",
    "             pca_object.explained_variance_ratio_,\n",
    "             linewidth = 2,\n",
    "             marker = 'o',\n",
    "             markersize = 10,\n",
    "             markeredgecolor = 'black',\n",
    "             markerfacecolor = 'grey')\n",
    "\n",
    "    # setting more plot options\n",
    "    plt.title('Scree Plot')\n",
    "    plt.xlabel('PCA feature')\n",
    "    plt.ylabel('Explained Variance')\n",
    "    plt.xticks(features)\n",
    "        \n",
    "    # displaying the plot\n",
    "    plt.show()"
   ]
  },
  {
   "cell_type": "markdown",
   "metadata": {},
   "source": [
    "<h4> Printing Scree Plots </h4><br>\n",
    "After we printed the scree plot, we will evaluate the location of the \"Elbow Point\" in the line graph"
   ]
  },
  {
   "cell_type": "code",
   "execution_count": 35,
   "metadata": {
    "code_folding": [
     0
    ]
   },
   "outputs": [
    {
     "data": {
      "image/png": "[encoded data removed]",
      "text/plain": [
       "<Figure size 720x576 with 1 Axes>"
      ]
     },
     "metadata": {
      "needs_background": "light"
     },
     "output_type": "display_data"
    },
    {
     "name": "stdout",
     "output_type": "stream",
     "text": [
      "Considering the plot, we will limit the number of components to 4.\n"
     ]
    }
   ],
   "source": [
    "# Plotting PCA (scree plot): \n",
    "scree_plot(pca_object = pca)\n",
    "\n",
    "print(\"Considering the plot, we will limit the number of components to 4.\")"
   ]
  },
  {
   "cell_type": "markdown",
   "metadata": {},
   "source": [
    "<h4> Defining number of components </h4><br>\n",
    "Reducing components, instantiating, fitting and transforming the data before comparing the dimensions of both dataframes.\n",
    "While 7 components have been displayed on the scree plot, the elbow point is at 2. But this covers merely 50% of the data. We will go ahead with 4 as this covers almost 80% of the data."
   ]
  },
  {
   "cell_type": "code",
   "execution_count": 36,
   "metadata": {
    "code_folding": [
     0
    ]
   },
   "outputs": [
    {
     "name": "stdout",
     "output_type": "stream",
     "text": [
      "Original shape: (380, 8)\n",
      "PCA shape     : (380, 4)\n"
     ]
    }
   ],
   "source": [
    "# Reducing number of components to 4: \n",
    "# Instantiating a PCA object:\n",
    "pca = PCA(n_components = 4,\n",
    "                   random_state = 222)\n",
    "\n",
    "# Fitting and transforming:\n",
    "survey_pca = pca.fit_transform(X_scaled)\n",
    "\n",
    "# comparing dimensions of each DataFrame\n",
    "print(\"Original shape:\", X_scaled.shape)\n",
    "print(\"PCA shape     :\",  survey_pca.shape)"
   ]
  },
  {
   "cell_type": "markdown",
   "metadata": {},
   "source": [
    "<h4> Classifying components </h4><br>\n",
    "To check how do the components fare against the defined personalities and traits"
   ]
  },
  {
   "cell_type": "code",
   "execution_count": 37,
   "metadata": {
    "code_folding": [
     0
    ],
    "scrolled": false
   },
   "outputs": [
    {
     "name": "stdout",
     "output_type": "stream",
     "text": [
      "                     0     1     2     3\n",
      "Agreeableness     0.33  0.17 -0.06  0.69\n",
      "Communicating     0.44  0.05 -0.08  0.12\n",
      "Conscientousness  0.32 -0.35  0.50  0.02\n",
      "Extraversion      0.25  0.13 -0.79 -0.15\n",
      "Neuroticism      -0.16  0.88  0.28 -0.01\n",
      "Openness          0.35  0.18  0.11 -0.60\n",
      "Team building     0.42  0.15  0.13  0.20\n",
      "Thinking          0.45  0.03  0.10 -0.28\n"
     ]
    },
    {
     "name": "stderr",
     "output_type": "stream",
     "text": [
      "C:\\Users\\admin\\anaconda3\\lib\\site-packages\\ipykernel_launcher.py:2: FutureWarning: The pandas.np module is deprecated and will be removed from pandas in a future version. Import numpy directly instead\n",
      "  \n"
     ]
    }
   ],
   "source": [
    "# Transposing pca components: \n",
    "factor_loadings_df = pd.DataFrame(pd.np.transpose(pca.components_))\n",
    "\n",
    "# naming rows as original features\n",
    "factor_loadings_df = factor_loadings_df.set_index(survey_scaled.columns)\n",
    "\n",
    "# checking the result\n",
    "print(factor_loadings_df.round(2))\n",
    "\n",
    "# saving to Excel\n",
    "#factor_loadings_df.to_excel('survey_factor_loadings.xlsx')"
   ]
  },
  {
   "cell_type": "markdown",
   "metadata": {},
   "source": [
    "<h4> Naming the components </h4><br>\n",
    "The PCA is reflective of which Big5 Personality and Hult DNA trait is present and absent in a persona. To give a quick understanding of the persona, we will coin the names based on the cult favourite sitcom, Friends. <br>\n",
    "The <b>first component</b>, isn't strongly related to any one Personality or trait. <b>Phoebe</b> (Buffay) seems a great fit for this persona since she is unpredictable.<br>\n",
    "The <b>second component</b> is strongly related to Neuroticism. <b>Monica</b> (Geller) is an easy choice for this persona as she is highly neurotic.<br>\n",
    "The <b>third component</b> is negatively correlated to Extraversion and is high on Conscientousness. <b>Chandler</b> (Bing) has often made it evident that he has low social skills but is responsible with his job. Thus, making him an apt representation of the third persona.<br>\n",
    "Lastly, <b>Joey</b> (Tribbiani), who is considered the nicest 'friend' but also often dumb will rightly represent the <b>fourth component</b> which is high on Agreeableness and low on Openness. "
   ]
  },
  {
   "cell_type": "code",
   "execution_count": 38,
   "metadata": {
    "code_folding": [
     0
    ],
    "scrolled": true
   },
   "outputs": [
    {
     "data": {
      "text/html": [
       "<div>\n",
       "<style scoped>\n",
       "    .dataframe tbody tr th:only-of-type {\n",
       "        vertical-align: middle;\n",
       "    }\n",
       "\n",
       "    .dataframe tbody tr th {\n",
       "        vertical-align: top;\n",
       "    }\n",
       "\n",
       "    .dataframe thead th {\n",
       "        text-align: right;\n",
       "    }\n",
       "</style>\n",
       "<table border=\"1\" class=\"dataframe\">\n",
       "  <thead>\n",
       "    <tr style=\"text-align: right;\">\n",
       "      <th></th>\n",
       "      <th>Phoebe</th>\n",
       "      <th>Monica</th>\n",
       "      <th>Chandler</th>\n",
       "      <th>Joey</th>\n",
       "    </tr>\n",
       "  </thead>\n",
       "  <tbody>\n",
       "    <tr>\n",
       "      <th>Agreeableness</th>\n",
       "      <td>0.33</td>\n",
       "      <td>0.17</td>\n",
       "      <td>-0.06</td>\n",
       "      <td>0.69</td>\n",
       "    </tr>\n",
       "    <tr>\n",
       "      <th>Communicating</th>\n",
       "      <td>0.44</td>\n",
       "      <td>0.05</td>\n",
       "      <td>-0.08</td>\n",
       "      <td>0.12</td>\n",
       "    </tr>\n",
       "    <tr>\n",
       "      <th>Conscientousness</th>\n",
       "      <td>0.32</td>\n",
       "      <td>-0.35</td>\n",
       "      <td>0.50</td>\n",
       "      <td>0.02</td>\n",
       "    </tr>\n",
       "    <tr>\n",
       "      <th>Extraversion</th>\n",
       "      <td>0.25</td>\n",
       "      <td>0.13</td>\n",
       "      <td>-0.79</td>\n",
       "      <td>-0.15</td>\n",
       "    </tr>\n",
       "    <tr>\n",
       "      <th>Neuroticism</th>\n",
       "      <td>-0.16</td>\n",
       "      <td>0.88</td>\n",
       "      <td>0.28</td>\n",
       "      <td>-0.01</td>\n",
       "    </tr>\n",
       "    <tr>\n",
       "      <th>Openness</th>\n",
       "      <td>0.35</td>\n",
       "      <td>0.18</td>\n",
       "      <td>0.11</td>\n",
       "      <td>-0.60</td>\n",
       "    </tr>\n",
       "    <tr>\n",
       "      <th>Team building</th>\n",
       "      <td>0.42</td>\n",
       "      <td>0.15</td>\n",
       "      <td>0.13</td>\n",
       "      <td>0.20</td>\n",
       "    </tr>\n",
       "    <tr>\n",
       "      <th>Thinking</th>\n",
       "      <td>0.45</td>\n",
       "      <td>0.03</td>\n",
       "      <td>0.10</td>\n",
       "      <td>-0.28</td>\n",
       "    </tr>\n",
       "  </tbody>\n",
       "</table>\n",
       "</div>"
      ],
      "text/plain": [
       "                  Phoebe  Monica  Chandler  Joey\n",
       "Agreeableness       0.33    0.17     -0.06  0.69\n",
       "Communicating       0.44    0.05     -0.08  0.12\n",
       "Conscientousness    0.32   -0.35      0.50  0.02\n",
       "Extraversion        0.25    0.13     -0.79 -0.15\n",
       "Neuroticism        -0.16    0.88      0.28 -0.01\n",
       "Openness            0.35    0.18      0.11 -0.60\n",
       "Team building       0.42    0.15      0.13  0.20\n",
       "Thinking            0.45    0.03      0.10 -0.28"
      ]
     },
     "execution_count": 38,
     "metadata": {},
     "output_type": "execute_result"
    }
   ],
   "source": [
    "# Defining a name for each component: \n",
    "factor_loadings_df.columns = ['Phoebe',\n",
    "                              'Monica',\n",
    "                              'Chandler',\n",
    "                              'Joey']\n",
    "\n",
    "\n",
    "# checking the result\n",
    "factor_loadings_df.round(2)"
   ]
  },
  {
   "cell_type": "markdown",
   "metadata": {},
   "source": [
    "<h4> Creating a dataframe with our personas</h4>"
   ]
  },
  {
   "cell_type": "code",
   "execution_count": 39,
   "metadata": {
    "code_folding": [
     0
    ]
   },
   "outputs": [
    {
     "data": {
      "text/html": [
       "<div>\n",
       "<style scoped>\n",
       "    .dataframe tbody tr th:only-of-type {\n",
       "        vertical-align: middle;\n",
       "    }\n",
       "\n",
       "    .dataframe tbody tr th {\n",
       "        vertical-align: top;\n",
       "    }\n",
       "\n",
       "    .dataframe thead th {\n",
       "        text-align: right;\n",
       "    }\n",
       "</style>\n",
       "<table border=\"1\" class=\"dataframe\">\n",
       "  <thead>\n",
       "    <tr style=\"text-align: right;\">\n",
       "      <th></th>\n",
       "      <th>Phoebe</th>\n",
       "      <th>Monica</th>\n",
       "      <th>Chandler</th>\n",
       "      <th>Joey</th>\n",
       "    </tr>\n",
       "  </thead>\n",
       "  <tbody>\n",
       "    <tr>\n",
       "      <th>0</th>\n",
       "      <td>0.01</td>\n",
       "      <td>-0.28</td>\n",
       "      <td>0.40</td>\n",
       "      <td>-0.19</td>\n",
       "    </tr>\n",
       "    <tr>\n",
       "      <th>1</th>\n",
       "      <td>0.36</td>\n",
       "      <td>0.16</td>\n",
       "      <td>1.16</td>\n",
       "      <td>-0.55</td>\n",
       "    </tr>\n",
       "    <tr>\n",
       "      <th>2</th>\n",
       "      <td>-1.60</td>\n",
       "      <td>-2.15</td>\n",
       "      <td>-0.67</td>\n",
       "      <td>-1.22</td>\n",
       "    </tr>\n",
       "    <tr>\n",
       "      <th>3</th>\n",
       "      <td>0.48</td>\n",
       "      <td>0.81</td>\n",
       "      <td>-0.06</td>\n",
       "      <td>0.41</td>\n",
       "    </tr>\n",
       "    <tr>\n",
       "      <th>4</th>\n",
       "      <td>-3.19</td>\n",
       "      <td>0.21</td>\n",
       "      <td>-0.56</td>\n",
       "      <td>-0.67</td>\n",
       "    </tr>\n",
       "    <tr>\n",
       "      <th>...</th>\n",
       "      <td>...</td>\n",
       "      <td>...</td>\n",
       "      <td>...</td>\n",
       "      <td>...</td>\n",
       "    </tr>\n",
       "    <tr>\n",
       "      <th>375</th>\n",
       "      <td>0.19</td>\n",
       "      <td>-1.07</td>\n",
       "      <td>0.59</td>\n",
       "      <td>0.24</td>\n",
       "    </tr>\n",
       "    <tr>\n",
       "      <th>376</th>\n",
       "      <td>-1.53</td>\n",
       "      <td>0.26</td>\n",
       "      <td>0.24</td>\n",
       "      <td>-0.08</td>\n",
       "    </tr>\n",
       "    <tr>\n",
       "      <th>377</th>\n",
       "      <td>3.12</td>\n",
       "      <td>-1.55</td>\n",
       "      <td>0.89</td>\n",
       "      <td>0.13</td>\n",
       "    </tr>\n",
       "    <tr>\n",
       "      <th>378</th>\n",
       "      <td>3.61</td>\n",
       "      <td>-1.21</td>\n",
       "      <td>-0.88</td>\n",
       "      <td>0.66</td>\n",
       "    </tr>\n",
       "    <tr>\n",
       "      <th>379</th>\n",
       "      <td>-2.31</td>\n",
       "      <td>-0.20</td>\n",
       "      <td>0.61</td>\n",
       "      <td>1.15</td>\n",
       "    </tr>\n",
       "  </tbody>\n",
       "</table>\n",
       "<p>380 rows × 4 columns</p>\n",
       "</div>"
      ],
      "text/plain": [
       "     Phoebe  Monica  Chandler  Joey\n",
       "0      0.01   -0.28      0.40 -0.19\n",
       "1      0.36    0.16      1.16 -0.55\n",
       "2     -1.60   -2.15     -0.67 -1.22\n",
       "3      0.48    0.81     -0.06  0.41\n",
       "4     -3.19    0.21     -0.56 -0.67\n",
       "..      ...     ...       ...   ...\n",
       "375    0.19   -1.07      0.59  0.24\n",
       "376   -1.53    0.26      0.24 -0.08\n",
       "377    3.12   -1.55      0.89  0.13\n",
       "378    3.61   -1.21     -0.88  0.66\n",
       "379   -2.31   -0.20      0.61  1.15\n",
       "\n",
       "[380 rows x 4 columns]"
      ]
     },
     "execution_count": 39,
     "metadata": {},
     "output_type": "execute_result"
    }
   ],
   "source": [
    "# Creating PCA DataFrame: \n",
    "survey_pca = pd.DataFrame(survey_pca)\n",
    "\n",
    "# renaming columns\n",
    "survey_pca.columns = factor_loadings_df.columns\n",
    "\n",
    "# checking results\n",
    "survey_pca.round(2)"
   ]
  },
  {
   "cell_type": "markdown",
   "metadata": {},
   "source": [
    "***\n",
    "<h2> Clustering </h2>"
   ]
  },
  {
   "cell_type": "markdown",
   "metadata": {},
   "source": [
    "<h3> Preparing data </h3>"
   ]
  },
  {
   "cell_type": "code",
   "execution_count": 40,
   "metadata": {
    "code_folding": [
     0
    ]
   },
   "outputs": [],
   "source": [
    "# Scaling dataset: \n",
    "# Instantiating:\n",
    "scaler = StandardScaler()\n",
    "\n",
    "# Fitting:\n",
    "scaler.fit(survey_pca)\n",
    "\n",
    "# Transforming:\n",
    "X_scaled_pca = scaler.transform(survey_pca)\n",
    "\n",
    "# Converting into a DataFrame:\n",
    "pca_scaled = pd.DataFrame(X_scaled_pca)\n",
    "\n",
    "# Defining column names:\n",
    "pca_scaled.columns = ['Phoebe','Monica','Chandler','Joey']\n",
    "\n",
    "# checking pre- and post-scaling variance\n",
    "#print(pd.np.var(survey_pca), '\\n\\n')\n",
    "#print(pd.np.var(pca_scaled))"
   ]
  },
  {
   "cell_type": "markdown",
   "metadata": {},
   "source": [
    "<h3> Dendrogram </h3>\n",
    "To help us understand the cluster formation"
   ]
  },
  {
   "cell_type": "code",
   "execution_count": 41,
   "metadata": {
    "code_folding": [
     0
    ],
    "scrolled": false
   },
   "outputs": [
    {
     "data": {
      "image/png": "[encoded data removed]",
      "text/plain": [
       "<Figure size 864x864 with 1 Axes>"
      ]
     },
     "metadata": {
      "needs_background": "light"
     },
     "output_type": "display_data"
    }
   ],
   "source": [
    "# Plotting dendrogram: \n",
    "# grouping data based on Ward distance\n",
    "standard_mergings_ward = linkage(y = pca_scaled,\n",
    "                                 method = 'ward')\n",
    "\n",
    "\n",
    "# setting plot size\n",
    "fig, ax = plt.subplots(figsize=(12, 12))\n",
    "\n",
    "# developing a dendrogram\n",
    "dendrogram(Z = standard_mergings_ward,\n",
    "           leaf_rotation = 90,\n",
    "           leaf_font_size = 6)\n",
    "\n",
    "# saving and displaying the plot\n",
    "plt.show()"
   ]
  },
  {
   "cell_type": "markdown",
   "metadata": {},
   "source": [
    "We can see three clearly bifurcated clusters."
   ]
  },
  {
   "cell_type": "markdown",
   "metadata": {},
   "source": [
    "<h3> Inertia Plot </h3>"
   ]
  },
  {
   "cell_type": "code",
   "execution_count": 42,
   "metadata": {
    "code_folding": [
     0
    ]
   },
   "outputs": [],
   "source": [
    "# Creating function for inertia plot: \n",
    "def inertia_plot(data, max_clust = 50):\n",
    "    \"\"\"\n",
    "PARAMETERS\n",
    "----------\n",
    "data      : DataFrame, data from which to build clusters. Dataset should be scaled\n",
    "max_clust : int, maximum of range for how many clusters to check interia, default 50\n",
    "    \"\"\"\n",
    "\n",
    "    ks = range(1, max_clust)\n",
    "    inertias = []\n",
    "\n",
    "\n",
    "    for k in ks:\n",
    "        # INSTANTIATING a kmeans object\n",
    "        model = KMeans(n_clusters = k)\n",
    "\n",
    "\n",
    "        # FITTING to the data\n",
    "        model.fit(data)\n",
    "\n",
    "\n",
    "        # append each inertia to the list of inertias\n",
    "        inertias.append(model.inertia_)\n",
    "\n",
    "\n",
    "\n",
    "    # plotting ks vs inertias\n",
    "    fig, ax = plt.subplots(figsize = (12, 8))\n",
    "    plt.plot(ks, inertias, '-o')\n",
    "\n",
    "\n",
    "    # labeling and displaying the plot\n",
    "    plt.xlabel('number of clusters, k')\n",
    "    plt.ylabel('inertia')\n",
    "    plt.xticks(ks)\n",
    "    plt.show()"
   ]
  },
  {
   "cell_type": "code",
   "execution_count": 43,
   "metadata": {
    "code_folding": [
     0
    ]
   },
   "outputs": [
    {
     "data": {
      "image/png": "[encoded data removed]",
      "text/plain": [
       "<Figure size 864x576 with 1 Axes>"
      ]
     },
     "metadata": {
      "needs_background": "light"
     },
     "output_type": "display_data"
    }
   ],
   "source": [
    "# Plotting inertia plot: \n",
    "inertia_plot(data = pca_scaled)"
   ]
  },
  {
   "cell_type": "markdown",
   "metadata": {},
   "source": [
    "<h3> Clustering data </h3>\n",
    "Using the obtained optimum number of clusters and kNearest Neighbours."
   ]
  },
  {
   "cell_type": "code",
   "execution_count": 44,
   "metadata": {
    "code_folding": [
     0
    ]
   },
   "outputs": [
    {
     "name": "stdout",
     "output_type": "stream",
     "text": [
      "1    143\n",
      "2    134\n",
      "0    103\n",
      "Name: Cluster, dtype: int64\n"
     ]
    }
   ],
   "source": [
    "# Defining clusters: \n",
    "# INSTANTIATING a k-Means object with three clusters\n",
    "survey_k_pca = KMeans(n_clusters = 3,\n",
    "                         random_state = 222)\n",
    "\n",
    "\n",
    "# fitting the object to the data\n",
    "survey_k_pca.fit(pca_scaled)\n",
    "\n",
    "# converting the clusters to a DataFrame\n",
    "survey_kmeans_pca = pd.DataFrame({'Cluster': survey_k_pca.labels_})\n",
    "\n",
    "\n",
    "# checking the results\n",
    "print(survey_kmeans_pca.iloc[: , 0].value_counts())"
   ]
  },
  {
   "cell_type": "markdown",
   "metadata": {},
   "source": [
    "<h3> Displaying centeroids </h3>"
   ]
  },
  {
   "cell_type": "code",
   "execution_count": 45,
   "metadata": {
    "code_folding": [
     0
    ]
   },
   "outputs": [
    {
     "data": {
      "text/html": [
       "<div>\n",
       "<style scoped>\n",
       "    .dataframe tbody tr th:only-of-type {\n",
       "        vertical-align: middle;\n",
       "    }\n",
       "\n",
       "    .dataframe tbody tr th {\n",
       "        vertical-align: top;\n",
       "    }\n",
       "\n",
       "    .dataframe thead th {\n",
       "        text-align: right;\n",
       "    }\n",
       "</style>\n",
       "<table border=\"1\" class=\"dataframe\">\n",
       "  <thead>\n",
       "    <tr style=\"text-align: right;\">\n",
       "      <th></th>\n",
       "      <th>Phoebe</th>\n",
       "      <th>Monica</th>\n",
       "      <th>Chandler</th>\n",
       "      <th>Joey</th>\n",
       "    </tr>\n",
       "  </thead>\n",
       "  <tbody>\n",
       "    <tr>\n",
       "      <th>0</th>\n",
       "      <td>-0.61</td>\n",
       "      <td>0.18</td>\n",
       "      <td>-0.38</td>\n",
       "      <td>-1.00</td>\n",
       "    </tr>\n",
       "    <tr>\n",
       "      <th>1</th>\n",
       "      <td>0.59</td>\n",
       "      <td>-0.01</td>\n",
       "      <td>-0.65</td>\n",
       "      <td>0.41</td>\n",
       "    </tr>\n",
       "    <tr>\n",
       "      <th>2</th>\n",
       "      <td>-0.16</td>\n",
       "      <td>-0.12</td>\n",
       "      <td>0.99</td>\n",
       "      <td>0.33</td>\n",
       "    </tr>\n",
       "  </tbody>\n",
       "</table>\n",
       "</div>"
      ],
      "text/plain": [
       "   Phoebe  Monica  Chandler  Joey\n",
       "0   -0.61    0.18     -0.38 -1.00\n",
       "1    0.59   -0.01     -0.65  0.41\n",
       "2   -0.16   -0.12      0.99  0.33"
      ]
     },
     "execution_count": 45,
     "metadata": {},
     "output_type": "execute_result"
    }
   ],
   "source": [
    "# Displaying centroids per cluster: \n",
    "# storing cluster centers\n",
    "centroids_pca = survey_k_pca.cluster_centers_\n",
    "\n",
    "# converting cluster centers into a DataFrame\n",
    "centroids_pca_df = pd.DataFrame(centroids_pca)\n",
    "\n",
    "# renaming principal components\n",
    "centroids_pca_df.columns = ['Phoebe',\n",
    "                            'Monica',\n",
    "                            'Chandler',\n",
    "                            'Joey']\n",
    "\n",
    "# checking results (clusters = rows, pc = columns)\n",
    "centroids_pca_df.round(2)"
   ]
  },
  {
   "cell_type": "markdown",
   "metadata": {},
   "source": [
    "***\n",
    "<h2> Analysis </h2>"
   ]
  },
  {
   "cell_type": "code",
   "execution_count": 46,
   "metadata": {
    "code_folding": [
     0
    ]
   },
   "outputs": [],
   "source": [
    "# Concatenating cluster memberships with PCA: \n",
    "clst_pca_df = pd.concat([survey_kmeans_pca,\n",
    "                         survey_pca],\n",
    "                         axis = 1)\n",
    "\n",
    "# checking results\n",
    "clst_pca_df\n",
    "\n",
    "\n",
    "# concatenating demographic information with pca-clusters\n",
    "final_pca_clust_df = pd.concat([survey_df.loc[ : , ['What laptop do you currently have?',\n",
    "                                'What laptop would you buy in next assuming if all laptops cost the same?',\n",
    "                                'What program are you in?',\n",
    "                                'What is your age?',\n",
    "                                'Gender',\n",
    "                                'What is your nationality? ',\n",
    "                                'What is your ethnicity?',\n",
    "                                'age_category']],\n",
    "                                clst_pca_df],\n",
    "                                axis = 1)\n",
    "\n",
    "\n",
    "# renaming columns\n",
    "final_pca_clust_df.columns = ['actual_laptop',\n",
    "                              'dream_laptop',\n",
    "                              'hult_program',\n",
    "                              'age',\n",
    "                              'gender',\n",
    "                              'nationality',\n",
    "                              'ethnicity',\n",
    "                              'age_category',\n",
    "                              'n_cluster',\n",
    "                              'Phoebe',\n",
    "                              'Monica',\n",
    "                              'Chandler',\n",
    "                              'Joey']\n",
    "\n",
    "# checking the results\n",
    "#print(final_pca_clust_df.head(n = 5))"
   ]
  },
  {
   "cell_type": "markdown",
   "metadata": {},
   "source": [
    "Exporting the data for Excel Analysis"
   ]
  },
  {
   "cell_type": "code",
   "execution_count": 47,
   "metadata": {
    "code_folding": []
   },
   "outputs": [],
   "source": [
    "#final_pca_clust_df.to_excel('Data_For_Analysis.xlsx')"
   ]
  },
  {
   "cell_type": "markdown",
   "metadata": {},
   "source": [
    "<h3> Violinplots </h3><br>\n",
    "We will be plotting violinplots to help understand the distribution of our audience across components and key demographics. Since the violinplots weren't insightful we decided to comment out the code to avoid data dumping. "
   ]
  },
  {
   "cell_type": "code",
   "execution_count": 48,
   "metadata": {
    "code_folding": [
     0
    ]
   },
   "outputs": [],
   "source": [
    "# What laptop do you currently have? \n",
    "\n",
    "# Component_1\n",
    "#fig, ax = plt.subplots(figsize = (12, 8))\n",
    "#sns.violinplot(x = 'actual_laptop',\n",
    "#            y = 'Phoebe',\n",
    "#            hue = 'n_cluster',\n",
    "#            data = final_pca_clust_df)\n",
    "\n",
    "\n",
    "#plt.tight_layout()\n",
    "# plt.show()\n",
    "\n",
    "# Component_2\n",
    "# fig, ax = plt.subplots(figsize = (12, 8))\n",
    "# sns.violinplot(x = 'actual_laptop',\n",
    "#             y = 'Monica',\n",
    "#             hue = 'n_cluster',\n",
    "#             data = final_pca_clust_df)\n",
    "\n",
    "\n",
    "# plt.tight_layout()\n",
    "# plt.show()\n",
    "\n",
    "# Component_3\n",
    "# fig, ax = plt.subplots(figsize = (12, 8))\n",
    "# sns.violinplot(x = 'actual_laptop',\n",
    "#             y = 'Chandler',\n",
    "#             hue = 'n_cluster',\n",
    "#             data = final_pca_clust_df)\n",
    "\n",
    "\n",
    "# plt.tight_layout()\n",
    "# plt.show()\n",
    "\n",
    "# Component_4\n",
    "# fig, ax = plt.subplots(figsize = (12, 8))\n",
    "# sns.violinplot(x = 'actual_laptop',\n",
    "#             y = 'Joey',\n",
    "#             hue = 'n_cluster',\n",
    "#             data = final_pca_clust_df)\n",
    "\n",
    "\n",
    "# plt.tight_layout()\n",
    "# plt.show()"
   ]
  },
  {
   "cell_type": "code",
   "execution_count": 49,
   "metadata": {
    "code_folding": [
     0
    ]
   },
   "outputs": [],
   "source": [
    "# What laptop would you buy? \n",
    "\n",
    "# Component_1\n",
    "# fig, ax = plt.subplots(figsize = (12, 8))\n",
    "# sns.violinplot(x = 'dream_laptop',\n",
    "#             y = 'Phoebe',\n",
    "#             hue = 'n_cluster',\n",
    "#             data = final_pca_clust_df)\n",
    "\n",
    "\n",
    "# plt.tight_layout()\n",
    "# plt.show()\n",
    "\n",
    "# Component_2\n",
    "# fig, ax = plt.subplots(figsize = (12, 8))\n",
    "# sns.violinplot(x = 'dream_laptop',\n",
    "#             y = 'Monica',\n",
    "#             hue = 'n_cluster',\n",
    "#             data = final_pca_clust_df)\n",
    "\n",
    "\n",
    "# plt.tight_layout()\n",
    "# plt.show()\n",
    "\n",
    "# Component_3\n",
    "# fig, ax = plt.subplots(figsize = (12, 8))\n",
    "# sns.violinplot(x = 'dream_laptop',\n",
    "#             y = 'Chandler',\n",
    "#             hue = 'n_cluster',\n",
    "#             data = final_pca_clust_df)\n",
    "\n",
    "\n",
    "# plt.tight_layout()\n",
    "# plt.show()\n",
    "\n",
    "# Component_4\n",
    "# fig, ax = plt.subplots(figsize = (12, 8))\n",
    "# sns.violinplot(x = 'dream_laptop',\n",
    "#             y = 'Joey',\n",
    "#             hue = 'n_cluster',\n",
    "#             data = final_pca_clust_df)\n",
    "\n",
    "\n",
    "# plt.tight_layout()\n",
    "# plt.show()"
   ]
  },
  {
   "cell_type": "code",
   "execution_count": 50,
   "metadata": {
    "code_folding": [
     0
    ],
    "scrolled": true
   },
   "outputs": [],
   "source": [
    "# What program are you in? \n",
    "\n",
    "# Component_1\n",
    "# fig, ax = plt.subplots(figsize = (12, 8))\n",
    "# sns.violinplot(x = 'hult_program',\n",
    "#             y = 'Phoebe',\n",
    "#             hue = 'n_cluster',\n",
    "#             data = final_pca_clust_df)\n",
    "\n",
    "\n",
    "# plt.tight_layout()\n",
    "# plt.show()\n",
    "\n",
    "# Component_2\n",
    "# fig, ax = plt.subplots(figsize = (12, 8))\n",
    "# sns.violinplot(x = 'hult_program',\n",
    "#             y = 'Monica',\n",
    "#             hue = 'n_cluster',\n",
    "#             data = final_pca_clust_df)\n",
    "\n",
    "\n",
    "# plt.tight_layout()\n",
    "# plt.show()\n",
    "\n",
    "# Component_3\n",
    "# fig, ax = plt.subplots(figsize = (12, 8))\n",
    "# sns.violinplot(x = 'hult_program',\n",
    "#             y = 'Chandler',\n",
    "#             hue = 'n_cluster',\n",
    "#             data = final_pca_clust_df)\n",
    "\n",
    "\n",
    "# plt.tight_layout()\n",
    "# plt.show()\n",
    "\n",
    "# Component_4\n",
    "# fig, ax = plt.subplots(figsize = (12, 8))\n",
    "# sns.violinplot(x = 'hult_program',\n",
    "#             y = 'Joey',\n",
    "#             hue = 'n_cluster',\n",
    "#             data = final_pca_clust_df)\n",
    "\n",
    "\n",
    "# plt.tight_layout()\n",
    "# plt.show()"
   ]
  },
  {
   "cell_type": "code",
   "execution_count": 51,
   "metadata": {
    "code_folding": [
     0
    ],
    "scrolled": true
   },
   "outputs": [],
   "source": [
    "# Gender: \n",
    "\n",
    "# Component_1\n",
    "# fig, ax = plt.subplots(figsize = (12, 8))\n",
    "# sns.violinplot(x = 'gender',\n",
    "#             y = 'Phoebe',\n",
    "#             hue = 'n_cluster',\n",
    "#             data = final_pca_clust_df)\n",
    "\n",
    "\n",
    "# plt.tight_layout()\n",
    "# plt.show()\n",
    "\n",
    "# Component_2\n",
    "# fig, ax = plt.subplots(figsize = (12, 8))\n",
    "# sns.violinplot(x = 'gender',\n",
    "#             y = 'Monica',\n",
    "#             hue = 'n_cluster',\n",
    "#             data = final_pca_clust_df)\n",
    "\n",
    "\n",
    "# plt.tight_layout()\n",
    "# plt.show()\n",
    "\n",
    "# Component_3\n",
    "# fig, ax = plt.subplots(figsize = (12, 8))\n",
    "# sns.violinplot(x = 'gender',\n",
    "#             y = 'Chandler',\n",
    "#             hue = 'n_cluster',\n",
    "#             data = final_pca_clust_df)\n",
    "\n",
    "\n",
    "# plt.tight_layout()\n",
    "# plt.show()\n",
    "\n",
    "# Component_4\n",
    "# fig, ax = plt.subplots(figsize = (12, 8))\n",
    "# sns.violinplot(x = 'gender',\n",
    "#             y = 'Joey',\n",
    "#             hue = 'n_cluster',\n",
    "#             data = final_pca_clust_df)\n",
    "\n",
    "\n",
    "# plt.tight_layout()\n",
    "# plt.show()"
   ]
  },
  {
   "cell_type": "code",
   "execution_count": 52,
   "metadata": {
    "code_folding": [
     0
    ],
    "scrolled": true
   },
   "outputs": [],
   "source": [
    "# What is your ethnicity? \n",
    "\n",
    "# Component_1\n",
    "# fig, ax = plt.subplots(figsize = (12, 8))\n",
    "# sns.violinplot(x = 'ethnicity',\n",
    "#             y = 'Phoebe',\n",
    "#             hue = 'n_cluster',\n",
    "#             data = final_pca_clust_df)\n",
    "\n",
    "\n",
    "# plt.tight_layout()\n",
    "# plt.show()\n",
    "\n",
    "# Component_2\n",
    "# fig, ax = plt.subplots(figsize = (12, 8))\n",
    "# sns.violinplot(x = 'ethnicity',\n",
    "#             y = 'Monica',\n",
    "#             hue = 'n_cluster',\n",
    "#             data = final_pca_clust_df)\n",
    "\n",
    "\n",
    "# plt.tight_layout()\n",
    "# plt.show()\n",
    "\n",
    "# Component_3\n",
    "# fig, ax = plt.subplots(figsize = (12, 8))\n",
    "# sns.violinplot(x = 'ethnicity',\n",
    "#             y = 'Chandler',\n",
    "#             hue = 'n_cluster',\n",
    "#             data = final_pca_clust_df)\n",
    "\n",
    "\n",
    "# plt.tight_layout()\n",
    "# plt.show()\n",
    "\n",
    "# Component_4\n",
    "# fig, ax = plt.subplots(figsize = (12, 8))\n",
    "# sns.violinplot(x = 'ethnicity',\n",
    "#             y = 'Joey',\n",
    "#             hue = 'n_cluster',\n",
    "#             data = final_pca_clust_df)\n",
    "\n",
    "\n",
    "# plt.tight_layout()\n",
    "# plt.show()"
   ]
  },
  {
   "cell_type": "code",
   "execution_count": 53,
   "metadata": {
    "code_folding": [
     0
    ],
    "scrolled": true
   },
   "outputs": [],
   "source": [
    "# What is your age? \n",
    "\n",
    "# Component_1\n",
    "# fig, ax = plt.subplots(figsize = (12, 8))\n",
    "# sns.violinplot(x = 'age_category',\n",
    "#             y = 'Phoebe',\n",
    "#             hue = 'n_cluster',\n",
    "#             data = final_pca_clust_df)\n",
    "\n",
    "\n",
    "# plt.tight_layout()\n",
    "# plt.show()\n",
    "\n",
    "# Component_2\n",
    "# fig, ax = plt.subplots(figsize = (12, 8))\n",
    "# sns.violinplot(x = 'age_category',\n",
    "#             y = 'Monica',\n",
    "#             hue = 'n_cluster',\n",
    "#             data = final_pca_clust_df)\n",
    "\n",
    "\n",
    "# plt.tight_layout()\n",
    "# plt.show()\n",
    "\n",
    "# Component_3\n",
    "# fig, ax = plt.subplots(figsize = (12, 8))\n",
    "# sns.violinplot(x = 'age_category',\n",
    "#             y = 'Chandler',\n",
    "#             hue = 'n_cluster',\n",
    "#             data = final_pca_clust_df)\n",
    "\n",
    "\n",
    "# plt.tight_layout()\n",
    "# plt.show()\n",
    "\n",
    "# Component_4\n",
    "# fig, ax = plt.subplots(figsize = (12, 8))\n",
    "# sns.violinplot(x = 'age_category',\n",
    "#             y = 'Joey',\n",
    "#             hue = 'n_cluster',\n",
    "#             data = final_pca_clust_df)\n",
    "\n",
    "\n",
    "# plt.tight_layout()\n",
    "# plt.show()"
   ]
  },
  {
   "cell_type": "markdown",
   "metadata": {},
   "source": [
    "***\n",
    "<h2> Conclusion </h2>"
   ]
  },
  {
   "cell_type": "markdown",
   "metadata": {},
   "source": [
    "This analysis helped us to create different personas to understand better the customers that prefer Windows PC and the ones that prefer the Apple MAC and address those that prefer Apple based on their persona. Based on the survey, we have seen that the market is divided in half, but 60% of the population prefer Apple over Windows. Additionally, we recommend, for the next time, to make a shorter version of the survey, because a long survey can cause a person not to answer it thoughtfully as discussed in different <a href=\"https://greenbookblog.org/market-research-methodology/a-debate-between-survey-length-and-data-quality/\">articles</a>. We hope this can help Windows to understand your clientele better and increase their retention and convert the MAC users into Windows users."
   ]
  }
 ],
 "metadata": {
  "kernelspec": {
   "display_name": "Python 3",
   "language": "python",
   "name": "python3"
  },
  "language_info": {
   "codemirror_mode": {
    "name": "ipython",
    "version": 3
   },
   "file_extension": ".py",
   "mimetype": "text/x-python",
   "name": "python",
   "nbconvert_exporter": "python",
   "pygments_lexer": "ipython3",
   "version": "3.7.6"
  },
  "toc": {
   "base_numbering": 1,
   "nav_menu": {},
   "number_sections": true,
   "sideBar": true,
   "skip_h1_title": false,
   "title_cell": "Table of Contents",
   "title_sidebar": "Contents",
   "toc_cell": false,
   "toc_position": {},
   "toc_section_display": true,
   "toc_window_display": false
  },
  "varInspector": {
   "cols": {
    "lenName": 16,
    "lenType": 16,
    "lenVar": 40
   },
   "kernels_config": {
    "python": {
     "delete_cmd_postfix": "",
     "delete_cmd_prefix": "del ",
     "library": "var_list.py",
     "varRefreshCmd": "print(var_dic_list())"
    },
    "r": {
     "delete_cmd_postfix": ") ",
     "delete_cmd_prefix": "rm(",
     "library": "var_list.r",
     "varRefreshCmd": "cat(var_dic_list()) "
    }
   },
   "types_to_exclude": [
    "module",
    "function",
    "builtin_function_or_method",
    "instance",
    "_Feature"
   ],
   "window_display": false
  }
 },
 "nbformat": 4,
 "nbformat_minor": 2
}
